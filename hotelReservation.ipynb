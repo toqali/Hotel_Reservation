{
  "cells": [
    {
      "cell_type": "markdown",
      "metadata": {
        "id": "WFJHgcDJ7TiK"
      },
      "source": [
        "# **Prepare Data**"
      ]
    },
    {
      "cell_type": "code",
      "execution_count": null,
      "metadata": {
        "id": "MvG6MQTqEcJ4"
      },
      "outputs": [
        {
          "ename": "",
          "evalue": "",
          "output_type": "error",
          "traceback": [
            "\u001b[1;31mRunning cells with 'hotel_env (Python 3.11.5)' requires the ipykernel package.\n",
            "\u001b[1;31mRun the following command to install 'ipykernel' into the Python environment. \n",
            "\u001b[1;31mCommand: 'c:/Users/user/Desktop/hotel_end2end/hotel_env/Scripts/python.exe -m pip install ipykernel -U --force-reinstall'"
          ]
        }
      ],
      "source": [
        "import pandas as pd\n",
        "import numpy as np\n",
        "import matplotlib.pyplot as plt\n",
        "import seaborn as sns"
      ]
    },
    {
      "cell_type": "code",
      "execution_count": null,
      "metadata": {
        "id": "QlMSXwhN7X_Q"
      },
      "outputs": [],
      "source": [
        "df = pd.read_csv(\"/content/first inten project.csv\")"
      ]
    },
    {
      "cell_type": "code",
      "execution_count": null,
      "metadata": {
        "colab": {
          "base_uri": "https://localhost:8080/",
          "height": 327
        },
        "id": "JxFGdtqi7aC_",
        "outputId": "54ba757a-8299-479d-b53e-fd4fa7009f7d"
      },
      "outputs": [],
      "source": [
        "df.head()"
      ]
    },
    {
      "cell_type": "code",
      "execution_count": null,
      "metadata": {
        "colab": {
          "base_uri": "https://localhost:8080/"
        },
        "id": "jMWJXPKJ1WyF",
        "outputId": "e7bb9407-d481-4ee7-a0c3-7adff7d7d574"
      },
      "outputs": [],
      "source": [
        "df.shape"
      ]
    },
    {
      "cell_type": "code",
      "execution_count": null,
      "metadata": {
        "colab": {
          "base_uri": "https://localhost:8080/"
        },
        "id": "x-3xDr0H7b35",
        "outputId": "e70e8b18-1fb0-4465-d362-0e2ed86c896d"
      },
      "outputs": [],
      "source": [
        "df.info()"
      ]
    },
    {
      "cell_type": "code",
      "execution_count": null,
      "metadata": {
        "colab": {
          "base_uri": "https://localhost:8080/",
          "height": 617
        },
        "id": "XELZaZxi7fDe",
        "outputId": "465fcac3-b8b0-4841-ed0a-39a6a16edcea"
      },
      "outputs": [],
      "source": [
        "# Before\n",
        "df.isna().sum()"
      ]
    },
    {
      "cell_type": "code",
      "execution_count": null,
      "metadata": {
        "colab": {
          "base_uri": "https://localhost:8080/"
        },
        "id": "Z4PhvDlq5h4W",
        "outputId": "50759ea1-77b8-4789-95fa-8b4219e89ba0"
      },
      "outputs": [],
      "source": [
        "# Before\n",
        "df.duplicated().sum()"
      ]
    },
    {
      "cell_type": "code",
      "execution_count": null,
      "metadata": {
        "id": "UrICn9sG_VRs"
      },
      "outputs": [],
      "source": [
        "df.columns = df.columns.str.strip()"
      ]
    },
    {
      "cell_type": "code",
      "execution_count": null,
      "metadata": {
        "id": "0N_ifors7iIR"
      },
      "outputs": [],
      "source": [
        "df['date of reservation'] = pd.to_datetime(df[\"date of reservation\"], errors = \"coerce\")"
      ]
    },
    {
      "cell_type": "code",
      "execution_count": null,
      "metadata": {
        "colab": {
          "base_uri": "https://localhost:8080/"
        },
        "collapsed": true,
        "id": "gkFJSYtYZXOe",
        "outputId": "60229163-8df8-451a-c2bc-81965ab7baff"
      },
      "outputs": [],
      "source": [
        "print(\"Number of null after = \", df[\"date of reservation\"].isna().sum())\n",
        "df['date of reservation'].fillna(\"3/1/2018\", inplace=True)"
      ]
    },
    {
      "cell_type": "code",
      "execution_count": null,
      "metadata": {
        "id": "xVayG7HD77Ks"
      },
      "outputs": [],
      "source": [
        "df[\"year\"] = df['date of reservation'].dt.year\n",
        "df[\"month\"] = df['date of reservation'].dt.month\n",
        "df[\"day\"] = df['date of reservation'].dt.day"
      ]
    },
    {
      "cell_type": "code",
      "execution_count": null,
      "metadata": {
        "colab": {
          "base_uri": "https://localhost:8080/",
          "height": 576
        },
        "id": "WdDPE3gj8um9",
        "outputId": "3f33afd0-860d-468a-88b9-f650c30989d6"
      },
      "outputs": [],
      "source": [
        "x_adult = df[\"number of adults\"].value_counts().index\n",
        "y_adult = df[\"number of adults\"].value_counts().values\n",
        "sns.barplot(x = x_adult, y = y_adult, palette= \"muted\")\n",
        "plt.title(\"Number of adult visitors\")"
      ]
    },
    {
      "cell_type": "code",
      "execution_count": null,
      "metadata": {
        "colab": {
          "base_uri": "https://localhost:8080/",
          "height": 576
        },
        "id": "jQ4--MAJ9poe",
        "outputId": "fecaa5de-92d6-4cf5-e3af-bcc130aae60b"
      },
      "outputs": [],
      "source": [
        "x_child = df[\"number of children\"].value_counts().index\n",
        "y_child = df[\"number of children\"].value_counts().values\n",
        "sns.barplot(x = x_child, y = y_child, palette= \"muted\")\n",
        "plt.title(\"Number of children visitors\")"
      ]
    },
    {
      "cell_type": "code",
      "execution_count": null,
      "metadata": {
        "colab": {
          "base_uri": "https://localhost:8080/",
          "height": 838
        },
        "id": "JM81vw4LGFai",
        "outputId": "f81df2f5-5005-49b0-870d-435465d9be4e"
      },
      "outputs": [],
      "source": [
        "# @title <font color = \"cyan\" size = 6>Percent of Adults for each Children\n",
        "# Create the cross-tabulation\n",
        "crosstab = pd.crosstab(df[\"number of children\"], df[\"number of adults\"], normalize=\"columns\")\n",
        "\n",
        "# Create a jointplot\n",
        "joinPlot = sns.jointplot(x=\"number of adults\", y=\"number of children\", data=df, kind=\"hex\", height= 8)\n",
        "\n",
        "# Plot the heatmap on the joint axis\n",
        "sns.heatmap(crosstab, annot=True, cmap=\"cividis\", fmt=\".3f\", cbar=True, ax=joinPlot.ax_joint)\n",
        "\n",
        "\n",
        "# Set labels and title\n",
        "joinPlot.ax_joint.set_xlabel('Number of Adults')\n",
        "joinPlot.ax_joint.set_ylabel('Number of Children')\n",
        "joinPlot.fig.suptitle('Percent of Adults for each Children', y=1.02)\n",
        "\n",
        "plt.show()\n"
      ]
    },
    {
      "cell_type": "markdown",
      "metadata": {
        "id": "6gYBeJhpUlB8"
      },
      "source": [
        "<font color = \"cyan\" size =5>1.  Most of Adult Visitors comes without children\n",
        "\n",
        "---\n",
        "\n",
        "<font color = \"yellow\" size =5> 2.Most visitors of children came without Adult with count of 2\n",
        "\n",
        "---\n",
        "\n",
        "<font color = \"cyan\" size =5> 3.Number of visitor children without adult is either one, two, or three and the most was two\n",
        "\n",
        "---\n",
        "\n",
        "<font color = \"yellow\" size =5> 4. When adult = 4 there is no any children\n",
        "\n",
        "---\n",
        "\n",
        "<font color = \"cyan\" size =5> 5.As so small percentage some values shows zero\n",
        "\n",
        "---"
      ]
    },
    {
      "cell_type": "code",
      "execution_count": null,
      "metadata": {
        "colab": {
          "base_uri": "https://localhost:8080/",
          "height": 838
        },
        "id": "fcIQLmYDTZXH",
        "outputId": "001de3c2-e83f-49a0-b287-cab9d0259901"
      },
      "outputs": [],
      "source": [
        "# @title <font color = \"cyan\" size = 6>Percent of Children for each Adults\n",
        "\n",
        "# Create the cross-tabulation\n",
        "crosstab = pd.crosstab(df[\"number of children\"], df[\"number of adults\"], normalize=\"index\")\n",
        "\n",
        "# Create a jointplot\n",
        "joinPlot = sns.jointplot(x=\"number of adults\", y=\"number of children\", data=df, kind=\"hex\", cmap=\"YlGnBu\", height= 8)\n",
        "\n",
        "# Plot the heatmap on the joint axis\n",
        "sns.heatmap(crosstab, annot=True, cmap=\"cividis\", fmt=\".3f\", cbar=True, ax=joinPlot.ax_joint)\n",
        "\n",
        "\n",
        "# Set labels and title\n",
        "joinPlot.ax_joint.set_xlabel('Number of Adults')\n",
        "joinPlot.ax_joint.set_ylabel('Number of Children')\n",
        "joinPlot.fig.suptitle('Percent of Children for each Adults', y=1.02)\n",
        "\n",
        "plt.show()\n"
      ]
    },
    {
      "cell_type": "markdown",
      "metadata": {
        "id": "i0i7-j7-GIF8"
      },
      "source": [
        "<font color = \"yellow\" size =5> 1.Most visitors of children came with two adult\n",
        "\n",
        "\n",
        "\n",
        "\n"
      ]
    },
    {
      "cell_type": "code",
      "execution_count": null,
      "metadata": {
        "colab": {
          "base_uri": "https://localhost:8080/"
        },
        "id": "8qB-4wrj_o0r",
        "outputId": "64c844d6-662a-4da8-d673-be51de561772"
      },
      "outputs": [],
      "source": [
        "favour_weekend_percent = ((df[\"number of weekend nights\"] != 0) & (df[\"number of week nights\"] == 0)).mean()\n",
        "print(\"Percent of bookers who prefer weekend = \",favour_weekend_percent )\n",
        "favour_weekdays_percent = ((df[\"number of week nights\"] != 0) & (df[\"number of weekend nights\"] == 0)).mean()\n",
        "print(\"Percent of bookers who prefer week days = \",favour_weekdays_percent )\n",
        "favour_both_percent = ((df[\"number of week nights\"] != 0) & (df[\"number of weekend nights\"] != 0)).mean()\n",
        "print(\"Percent of bookers who prefer both = \",favour_both_percent )\n",
        "no_stay_percent = 1-(favour_weekend_percent + favour_weekdays_percent + favour_both_percent)\n",
        "print(\"Percent of bookers who don't prefer stay = \", no_stay_percent )"
      ]
    },
    {
      "cell_type": "code",
      "execution_count": null,
      "metadata": {
        "colab": {
          "base_uri": "https://localhost:8080/",
          "height": 430
        },
        "id": "5xYHS3tQXZpr",
        "outputId": "93e57391-9d0a-4cd2-faac-0a2b1060af15"
      },
      "outputs": [],
      "source": [
        "x = [favour_weekend_percent, favour_both_percent, favour_weekdays_percent, no_stay_percent]\n",
        "labels = [\"weekend\", \"both\", \"weekdays\", \"no_stay\"]\n",
        "plt.pie(x= x, labels = labels, autopct='%1.1f%%', startangle=180 )\n",
        "plt.title('Types of stay', fontsize=16, weight='bold')\n",
        "plt.show()"
      ]
    },
    {
      "cell_type": "code",
      "execution_count": null,
      "metadata": {
        "id": "b4nlDTAcFq-A"
      },
      "outputs": [],
      "source": [
        "def percent_canceled(row):\n",
        "    prev_canceled = row['P-C']\n",
        "    prev_not_canceled = row['P-not-C']\n",
        "    total_booking = prev_canceled + prev_not_canceled\n",
        "\n",
        "    if total_booking > 0:\n",
        "        # shows old customer (repeated)\n",
        "        percent_canceled = prev_canceled / total_booking\n",
        "    else:\n",
        "        # shows new customer (not repeated)\n",
        "        percent_canceled = -1\n",
        "\n",
        "    return percent_canceled\n",
        "\n"
      ]
    },
    {
      "cell_type": "code",
      "execution_count": null,
      "metadata": {
        "id": "NzNae0XQ_LEM"
      },
      "outputs": [],
      "source": [
        "# Create new features\n",
        "df[\"total_stay_night\"] = df[\"number of week nights\"] + df[\"number of weekend nights\"]\n",
        "df[\"total_visiors\"] = df[\"number of adults\"] + df[\"number of children\"]\n",
        "df[\"percent_canceled\"] = df.apply(percent_canceled, axis=1)\n",
        "# Drop unnecessary features\n",
        "df.drop(columns= [\"Booking_ID\", \"date of reservation\"], inplace = True)"
      ]
    },
    {
      "cell_type": "code",
      "execution_count": null,
      "metadata": {
        "colab": {
          "base_uri": "https://localhost:8080/",
          "height": 467
        },
        "id": "pojBY7bDC-H-",
        "outputId": "4f8449e9-7f0a-48e5-b57e-2a71944fb116"
      },
      "outputs": [],
      "source": [
        "sns.scatterplot(data = df, x = \"total_stay_night\", y = \"average price\")"
      ]
    },
    {
      "cell_type": "markdown",
      "metadata": {
        "id": "6Wqm61teMSiD"
      },
      "source": [
        "<font color=\"yellow\" size=5>1. There are short stays with high costs, and long stays with low costs.</font>\n",
        "\n",
        "---\n",
        "\n",
        "<font color=\"yellow\" size=5>2. Zero stay nights correspond to zero cost.</font>\n",
        "\n",
        "---"
      ]
    },
    {
      "cell_type": "code",
      "execution_count": null,
      "metadata": {
        "colab": {
          "base_uri": "https://localhost:8080/",
          "height": 447
        },
        "id": "hdRq5ckCO9v4",
        "outputId": "308e9c01-3370-4c26-f4b5-fa792ed4e0e9"
      },
      "outputs": [],
      "source": [
        "seg_percent = df[\"market segment type\"].value_counts(normalize = True).values\n",
        "seg_name = df[\"market segment type\"].value_counts().index\n",
        "plt.pie(data = df, x = seg_percent, labels = seg_name , textprops={'fontsize': 8})\n",
        "plt.title('Market Segment', fontsize=16, weight='bold')"
      ]
    },
    {
      "cell_type": "markdown",
      "metadata": {
        "id": "mfJnYLULVSct"
      },
      "source": [
        "<font color =\"yellow\" size = 5> 1. Online : booked by its website or in any online method\n",
        "\n",
        "<font color =\"yellow\" size = 5> 2. Offline : booked by its traditional travel agencies\n",
        "\n",
        "<font color =\"yellow\" size = 5> 3. Corporate : booked by companies for thier employees"
      ]
    },
    {
      "cell_type": "code",
      "execution_count": null,
      "metadata": {
        "colab": {
          "base_uri": "https://localhost:8080/",
          "height": 143
        },
        "id": "nxxdvmxxS7YC",
        "outputId": "f3ddad46-ac6e-4db3-d819-111c815fbcd3"
      },
      "outputs": [],
      "source": [
        "# Number of free offers of different segs\n",
        "pd.crosstab(df[df[\"average price\"] ==0][\"market segment type\"], df[df[\"average price\"] ==0][\"year\"])"
      ]
    },
    {
      "cell_type": "code",
      "execution_count": null,
      "metadata": {
        "colab": {
          "base_uri": "https://localhost:8080/",
          "height": 237
        },
        "id": "bMhwnDskXIuI",
        "outputId": "44255f96-f474-408c-f5a0-e19f9c221035"
      },
      "outputs": [],
      "source": [
        "pd.crosstab(df[\"market segment type\"], df[\"year\"])"
      ]
    },
    {
      "cell_type": "code",
      "execution_count": null,
      "metadata": {
        "colab": {
          "base_uri": "https://localhost:8080/"
        },
        "id": "P_WE6lzdW8kO",
        "outputId": "c829a6de-5d7f-4e8d-c84b-cf6398eb29ca"
      },
      "outputs": [],
      "source": [
        "print(\"percent of free offeres of complementary in 2017 = \", round(130/139, 2))\n",
        "print(\"percent of free offeres of complementary in 2018 = \", round(224/252, 2))\n",
        "print(\"percent of free offeres of Online in 2017 = \", round(103/2953, 2))\n",
        "print(\"percent of free offeres of Online in 2018 = \", round(88/20268, 3))"
      ]
    },
    {
      "cell_type": "markdown",
      "metadata": {
        "id": "T-JgdzcsO-Yc"
      },
      "source": [
        "\n",
        "<font color=\"yellow\" size = 5> Full free offers given for two segments : least reserved complementary and and highest reserved online"
      ]
    },
    {
      "cell_type": "code",
      "execution_count": null,
      "metadata": {
        "colab": {
          "base_uri": "https://localhost:8080/",
          "height": 407
        },
        "id": "-YtzcCHzvEKv",
        "outputId": "1143ac85-4762-41b1-dfa4-d4f0a2bfcbdd"
      },
      "outputs": [],
      "source": [
        "# Grouping the data by room type\n",
        "grouped = df.groupby(\"room type\")[\"average price\"]\n",
        "\n",
        "# Create subplots\n",
        "fig, axes = plt.subplots(nrows=1, ncols=3, figsize=(13, 4))\n",
        "\n",
        "# First plot\n",
        "for room_type, color in zip([\"Room_Type 1\", \"Room_Type 2\", \"Room_Type 4\", \"Room_Type 3\", \"Room_Type 5\", \"Room_Type 6\", \"Room_Type 7\"], [\"blue\", \"red\", \"cyan\", \"black\", \"orange\", \"fuchsia\", \"green\"]):\n",
        "    sns.histplot(x=grouped.get_group(room_type), kde=True, label=room_type, color=color, ax=axes[0])\n",
        "\n",
        "axes[0].set_title(\"Room Types \")\n",
        "axes[0].legend()\n",
        "\n",
        "# Second subplot: Room_Type 1, 2, 4\n",
        "for room_type, color in zip([\"Room_Type 1\", \"Room_Type 2\", \"Room_Type 4\"], [\"blue\", \"red\", \"cyan\"]):\n",
        "    sns.histplot(x=grouped.get_group(room_type), kde=True, label=room_type, color=color, ax=axes[1])\n",
        "\n",
        "axes[1].set_title(\"Room Types 1, 2, 4\")\n",
        "axes[1].legend()\n",
        "\n",
        "# Third subplot: Room_Type 3, 5, 6, 7\n",
        "for room_type, color in zip([\"Room_Type 3\", \"Room_Type 5\", \"Room_Type 6\", \"Room_Type 7\"], [\"black\", \"orange\", \"fuchsia\", \"green\"]):\n",
        "    sns.histplot(x=grouped.get_group(room_type), kde=True, label=room_type, color=color, ax=axes[2])\n",
        "\n",
        "axes[2].set_title(\"Room Types 3, 5, 6, 7\")\n",
        "axes[2].legend()\n",
        "\n",
        "\n",
        "\n",
        "# Show plot\n",
        "plt.tight_layout()\n",
        "plt.show()\n"
      ]
    },
    {
      "cell_type": "markdown",
      "metadata": {
        "id": "h4NRS0O1y2bt"
      },
      "source": [
        "<font color=\"yellow\" size=\"5\">1. Most needed rooms are type1, type4, and type6 in order.</font><br>\n",
        "<font color=\"yellow\" size=\"5\">2. Most free offers are with type1, type4, and type7 in order.</font><br>\n",
        "<font color=\"yellow\" size=\"5\">3. The demand for type3 is very low.</font><br>\n",
        "<font color=\"yellow\" size=\"5\">4. As shown, the average price of type1 is the least, followed by type2, type3, and so on. This suggests that rooms can be ordered based on price.</font>\n"
      ]
    },
    {
      "cell_type": "code",
      "execution_count": null,
      "metadata": {
        "colab": {
          "base_uri": "https://localhost:8080/",
          "height": 697
        },
        "id": "cIuulA8AxdH5",
        "outputId": "f5702512-367b-4b14-c329-74b4f62c3234"
      },
      "outputs": [],
      "source": [
        "fig, axes = plt.subplots(nrows=1, ncols=2, figsize=(16, 6))\n",
        "crosstabPerRoom = pd.crosstab(df[\"room type\"], df[\"market segment type\"], normalize=\"index\")\n",
        "crosstabPerSeg = pd.crosstab(df[\"room type\"], df[\"market segment type\"], normalize=\"columns\")\n",
        "\n",
        "# Create the heatmap\n",
        "plt.figure(figsize=(10, 6))\n",
        "sns.heatmap(crosstabPerRoom, annot=True, cmap=\"YlGnBu\", fmt=\".2f\", linewidths=0.5, ax = axes[0])\n",
        "sns.heatmap(crosstabPerSeg, annot=True, cmap=\"YlGnBu\", fmt=\".2f\", linewidths=0.5, ax = axes[1])\n",
        "\n",
        "# Show the plot\n",
        "axes[0].set_title('Proportion of Market Segments for Each Room Type')\n",
        "axes[1].set_title('Proportion of Room Types for Each Market Segment')\n",
        "\n",
        "plt.show()\n",
        "plt.tight_layout()"
      ]
    },
    {
      "cell_type": "markdown",
      "metadata": {
        "id": "kq8xxYc6GgmU"
      },
      "source": [
        "<font color=\"yellow\" size =5> 1 . Online segment prefers all types of room on the top type1 then type4\n",
        "\n",
        "<font color=\"yellow\" size =5> 2 . High demand of type1 room by all segs\n",
        "\n",
        "<font color=\"yellow\" size =5> 3 . Room7 booked mostly by online then complementary"
      ]
    },
    {
      "cell_type": "code",
      "execution_count": null,
      "metadata": {
        "colab": {
          "base_uri": "https://localhost:8080/",
          "height": 507
        },
        "id": "9NCZungCVh4T",
        "outputId": "0dcdd40c-5357-4422-cdbb-942f93260740"
      },
      "outputs": [],
      "source": [
        "# Group by and calculate the size\n",
        "grouped = df.groupby([\"market segment type\", \"booking status\"]).size().unstack(fill_value=0)\n",
        "\n",
        "# Plot the grouped bar chart\n",
        "grouped.plot(kind=\"bar\", figsize=(8, 5), color = [\"black\", \"blue\"])\n",
        "\n",
        "# Add labels and title\n",
        "plt.title(\"Booking Status by Market Segment Type\")\n",
        "plt.xlabel(\"Market Segment Type\")\n",
        "plt.ylabel(\"Count\")\n",
        "plt.legend(title=\"Booking Status\")\n",
        "plt.xticks(rotation=0)\n",
        "plt.tight_layout()\n",
        "\n",
        "# Show the plot\n",
        "plt.show()"
      ]
    },
    {
      "cell_type": "markdown",
      "metadata": {
        "id": "jmqHYcaHXYMn"
      },
      "source": [
        "<font color = \"yellow\" size = 5>1. No cancellations were observed in the complementary segment, possibly because 94% of it are free\n",
        "\n",
        "<font color = \"yellow\" size = 5> 2. The cancellation rate for online and offline bookings is nearly 50%"
      ]
    },
    {
      "cell_type": "code",
      "execution_count": null,
      "metadata": {
        "id": "BsEuAhdayOAz"
      },
      "outputs": [],
      "source": [
        "#df.groupby([\"room type\", \"total_visiors\"]).size()"
      ]
    },
    {
      "cell_type": "code",
      "execution_count": null,
      "metadata": {
        "colab": {
          "base_uri": "https://localhost:8080/",
          "height": 1000
        },
        "id": "sHzg2lOqdPhX",
        "outputId": "f630f050-7398-4391-83f5-1f5ff573d5a5"
      },
      "outputs": [],
      "source": [
        "fig, axes = plt.subplots(nrows=4, ncols=2, figsize=(12, 20))\n",
        "colors = [\"blue\", \"fuchsia\", \"green\", \"yellow\"]\n",
        "rooms = df[\"room type\"].unique()\n",
        "for indx,room in enumerate(rooms):\n",
        "  meals = df[df[\"room type\"] == room][\"type of meal\"].unique()\n",
        "  for meal_type, color in zip(meals, colors[:len(meals)]):\n",
        "    grouped = df[df[\"room type\"] == room].groupby(\"type of meal\")[\"average price\"]\n",
        "    sns.histplot(x=grouped.get_group(meal_type), kde=True, label=meal_type, color=color, ax=axes[indx//2, indx%2])\n",
        "\n",
        "      # Add subplot title and legend\n",
        "    axes[indx//2, indx%2].set_title(f\"Room Type: {room}\")\n",
        "    axes[indx//2, indx%2].legend(title=\"Meal Types\")\n",
        "\n",
        "# Add overall title and layout adjustments\n",
        "fig.suptitle(\"Meal Types by Room Type\", fontsize=16)\n",
        "\n",
        "fig.delaxes(axes[3, 1])  # Remove the last subplot (3rd row, 2nd column)\n",
        "\n",
        "plt.show()\n"
      ]
    },
    {
      "cell_type": "markdown",
      "metadata": {
        "id": "neBiBGx_DMUi"
      },
      "source": [
        "<font color=\"yellow\" size =5> 1 . In all types of room, the Meal Plan 1 preffered the most at all visitors.\n",
        "\n",
        "<font color=\"yellow\" size =5> 2 . There is no demand for Meal Plan 3 when booking room types 2, 5, and 6, and very little demand for it in other room types\n",
        "\n",
        "<font color=\"yellow\" size =5> 3 . Most of free offers got with Meal Plan 1\n",
        "\n",
        "<font color=\"yellow\" size =5> 4 . In General, average price of Meal plan2 is higher than non-selected plane\n",
        "\n"
      ]
    },
    {
      "cell_type": "code",
      "execution_count": null,
      "metadata": {
        "colab": {
          "base_uri": "https://localhost:8080/",
          "height": 466
        },
        "id": "WcBr4_PEG-jl",
        "outputId": "ed8a202f-dce7-4e74-d769-4c15e6f1b310"
      },
      "outputs": [],
      "source": [
        "sns.scatterplot(data = df, x = 'repeated', y = 'percent_canceled')"
      ]
    },
    {
      "cell_type": "markdown",
      "metadata": {
        "id": "4QzxafAN8fYn"
      },
      "source": [
        "<font color=\"yellow\" size=5> non-repeated visitor is new so percent of cancelation is unknown"
      ]
    },
    {
      "cell_type": "code",
      "execution_count": null,
      "metadata": {
        "colab": {
          "base_uri": "https://localhost:8080/",
          "height": 559
        },
        "id": "BoBxfKeJa6ar",
        "outputId": "30a35e6e-4bb1-4e2a-a2c5-4963b751adac"
      },
      "outputs": [],
      "source": [
        "fig, axes = plt.subplots(nrows=1, ncols=3, figsize=(16, 6))\n",
        "sns.scatterplot(data = df, x = 'special requests', y = \"average price\", hue=\"booking status\", ax = axes[0])\n",
        "sns.scatterplot(data = df, x = 'special requests', y = \"average price\", hue='market segment type', ax = axes[1])\n",
        "sns.scatterplot(data = df, x = 'special requests', y = \"average price\", hue='room type', ax = axes[2])"
      ]
    },
    {
      "cell_type": "markdown",
      "metadata": {
        "id": "1kRStRqh9uxl"
      },
      "source": [
        "<font color=\"yellow\" size =5> 1 . low request of high special requests with lower cancelation\n",
        "\n",
        "<font color=\"yellow\" size =5> 2 . Some prices are low despite high special requests, and vice versa"
      ]
    },
    {
      "cell_type": "code",
      "execution_count": null,
      "metadata": {
        "colab": {
          "base_uri": "https://localhost:8080/",
          "height": 303
        },
        "id": "5H9gui0Kaw8j",
        "outputId": "032ab62f-c293-432a-99fa-1d6f396068f4"
      },
      "outputs": [],
      "source": [
        "df[df[\"market segment type\"] == \"Online\"][\"special requests\"].value_counts()"
      ]
    },
    {
      "cell_type": "code",
      "execution_count": null,
      "metadata": {
        "id": "EM5KppUw_JTX"
      },
      "outputs": [],
      "source": [
        "canceled = df[df[\"booking status\"] == \"Canceled\"]\n",
        "non_canceled = df[df[\"booking status\"] == \"Not_Canceled\"]"
      ]
    },
    {
      "cell_type": "code",
      "execution_count": null,
      "metadata": {
        "colab": {
          "base_uri": "https://localhost:8080/",
          "height": 607
        },
        "id": "1U7Vzm7KvHsc",
        "outputId": "bc18849e-bd6e-47f0-9ba7-335794ac9ea5"
      },
      "outputs": [],
      "source": [
        "# Aggregate data for bubble chart\n",
        "bubble_data = df.groupby(['market segment type', 'special requests']).size().reset_index(name=\"count\")\n",
        "\n",
        "# Plot bubble chart\n",
        "plt.figure(figsize=(12, 6))\n",
        "sns.scatterplot(\n",
        "    x='market segment type',\n",
        "    y='special requests',\n",
        "    size=\"count\",\n",
        "    hue='special requests',\n",
        "    data=bubble_data,\n",
        "    sizes=(50, 500),\n",
        "    palette=\"cool\"\n",
        ")\n",
        "\n",
        "# Customize\n",
        "plt.title(\"Bubble Chart of Market Segment vs Special Requests\", fontsize=14)\n",
        "plt.xlabel(\"Market Segment\", fontsize=12)\n",
        "plt.ylabel(\"Special Requests\", fontsize=12)\n",
        "plt.legend(title=\"Special Requests\", bbox_to_anchor=(1.05, 1), loc=\"upper left\")\n",
        "plt.tight_layout()\n",
        "plt.show()\n"
      ]
    },
    {
      "cell_type": "markdown",
      "metadata": {
        "id": "b_mqqOmovpGi"
      },
      "source": [
        "<font color=\"yellow\" size =5> 1 . Aviation segment has no special requests\n",
        "\n",
        "<font color=\"yellow\" size =5> 2 . Both online and Offline prefer all types of request but 0, 1 are the most\n",
        "\n",
        "<font color=\"yellow\" size =5> 3 . Low demand on 5th special requests"
      ]
    },
    {
      "cell_type": "code",
      "execution_count": null,
      "metadata": {
        "colab": {
          "base_uri": "https://localhost:8080/",
          "height": 467
        },
        "id": "BodNsmYndHhT",
        "outputId": "2fbd4a3f-9e17-466e-9982-efdc552298e3"
      },
      "outputs": [],
      "source": [
        "car_space = df.groupby([\"booking status\", 'car parking space']).size().reset_index(name=\"Count\")\n",
        "sns.barplot(data = car_space, x = \"booking status\", y = \"Count\", hue = 'car parking space')"
      ]
    },
    {
      "cell_type": "markdown",
      "metadata": {
        "id": "9kpx5BUYwqgP"
      },
      "source": [
        "<font color=\"yellow\" size =5> Low demand on car space service"
      ]
    },
    {
      "cell_type": "code",
      "execution_count": null,
      "metadata": {
        "colab": {
          "base_uri": "https://localhost:8080/",
          "height": 178
        },
        "id": "Sz8OkigtgLY0",
        "outputId": "12f23bfb-abc2-4943-ff5a-0877feaf0136"
      },
      "outputs": [],
      "source": [
        "df[df['car parking space'] == 1][\"year\"].value_counts()"
      ]
    },
    {
      "cell_type": "markdown",
      "metadata": {
        "id": "mgRw2_qUglOE"
      },
      "source": [
        "<font color=\"yellow\" size = 5>  Hotel starts adding car parking space service\n",
        "\n",
        "<font color=\"yellow\" size = 5>  Less required of visitors\n",
        "\n",
        "\n"
      ]
    },
    {
      "cell_type": "code",
      "execution_count": null,
      "metadata": {
        "colab": {
          "base_uri": "https://localhost:8080/",
          "height": 579
        },
        "id": "NMlb4sNhi1pg",
        "outputId": "e83965f0-6d71-4181-ae19-539a0afdd5ef"
      },
      "outputs": [],
      "source": [
        "import pandas as pd\n",
        "import matplotlib.pyplot as plt\n",
        "\n",
        "# Filter data for 2017 and 2018\n",
        "df_2017 = df[df[\"year\"] == 2017]\n",
        "df_2018 = df[df[\"year\"] == 2018]\n",
        "\n",
        "# Calculate data for 2017\n",
        "total_2017 = df_2017[\"month\"].value_counts().sort_index()  # Total counts for each month\n",
        "free_2017 = df_2017[df_2017[\"average price\"] == 0][\"month\"].value_counts().reindex(total_2017.index, fill_value=0)  # Free counts\n",
        "\n",
        "# Calculate data for 2018\n",
        "total_2018 = df_2018[\"month\"].value_counts().sort_index()  # Total counts for each month\n",
        "free_2018 = df_2018[df_2018[\"average price\"] == 0][\"month\"].value_counts().reindex(total_2018.index, fill_value=0)  # Free counts\n",
        "\n",
        "# Create subplots for 2017 and 2018\n",
        "fig, axes = plt.subplots(nrows=1, ncols=2, figsize=(15, 6), sharey=True)\n",
        "\n",
        "# Stacked bar chart for 2017\n",
        "axes[0].bar(total_2017.index, total_2017, label=\"Total\", color=\"skyblue\")\n",
        "axes[0].bar(total_2017.index, free_2017, label=\"Free\", color=\"orange\")\n",
        "axes[0].set_title(\"2017: Free and Total Counts per Month\")\n",
        "axes[0].set_xlabel(\"Month\")\n",
        "axes[0].set_ylabel(\"Count\")\n",
        "axes[0].legend()\n",
        "\n",
        "# Stacked bar chart for 2018\n",
        "axes[1].bar(total_2018.index, total_2018, label=\"Total\", color=\"skyblue\")\n",
        "axes[1].bar(total_2018.index, free_2018, label=\"Free\", color=\"orange\")\n",
        "axes[1].set_title(\"2018: Free and Total Counts per Month\")\n",
        "axes[1].set_xlabel(\"Month\")\n",
        "axes[1].legend()\n",
        "\n",
        "# Overall adjustments\n",
        "fig.suptitle(\"Monthly Analysis: Free vs Total Counts (2017 vs 2018)\", fontsize=16)\n",
        "plt.tight_layout()\n",
        "plt.show()\n"
      ]
    },
    {
      "cell_type": "markdown",
      "metadata": {
        "id": "n-TCDREMsBMF"
      },
      "source": [
        "<font size= 5 color =\"yellow\" > 1 . Number of reservation in 2018 is higher than 2017.\n",
        "\n",
        "<font size= 5 color =\"yellow\" > 2 . In 2018, the number of reservation is high throughout the year except in the end and beginning of year\n",
        "\n",
        "<font size= 5 color =\"yellow\" > 3 . In 2017, the number of reservation is high at 9 and 10\n",
        "\n",
        "<font size= 5 color =\"yellow\" > 4 . In 2018, the number of offers is equally throughout the year"
      ]
    },
    {
      "cell_type": "code",
      "execution_count": null,
      "metadata": {
        "colab": {
          "base_uri": "https://localhost:8080/",
          "height": 607
        },
        "id": "pRRGlDDI_kql",
        "outputId": "d2d09bd7-59d9-4a81-fdbf-bde1c2089853"
      },
      "outputs": [],
      "source": [
        "monthly_data = df.groupby(['year', 'month']).size().reset_index(name='reservation_count')\n",
        "\n",
        "# Plotting the line chart\n",
        "plt.figure(figsize=(10, 6))\n",
        "\n",
        "sns.lineplot(data=monthly_data, x='month', y='reservation_count', hue='year', marker='o', linewidth=2)\n",
        "\n",
        "# Customize the plot\n",
        "plt.title('Monthly Reservations during Years', fontsize=16, weight='bold', )\n",
        "plt.xlabel('Month', fontsize=14)\n",
        "plt.ylabel('Number of Reservations', fontsize=14)\n",
        "plt.xticks(ticks=range(1, 13), labels=[\"Jan\", \"Feb\", \"Mar\", \"Apr\", \"May\", \"Jun\", \"Jul\", \"Aug\", \"Sep\", \"Oct\", \"Nov\", \"Dec\"])\n",
        "plt.legend(title='Year', fontsize=12)\n",
        "\n",
        "# Show the plot\n",
        "plt.tight_layout()\n",
        "plt.show()\n"
      ]
    },
    {
      "cell_type": "markdown",
      "metadata": {
        "id": "Bf_EQ95rUG8w"
      },
      "source": [
        "<font color=\"yellow\" size = 5> 1.General Increasing in number of Reservation in 2018 compared with previous years\n",
        "\n",
        "<font color=\"yellow\" size = 5> 2.Decreasing reservation at the begining and end of year"
      ]
    },
    {
      "cell_type": "code",
      "execution_count": null,
      "metadata": {
        "cellView": "form",
        "colab": {
          "base_uri": "https://localhost:8080/",
          "height": 407
        },
        "id": "iUjmwgAd9VlF",
        "outputId": "1c6fda80-b652-4604-cec4-a79efaf19d4d"
      },
      "outputs": [],
      "source": [
        "# @title <font color = \"cyan\" size = 5>**Cancelation vs Not-Cancelation During 2017 & 2018**\n",
        "# Prepare monthly data for plotting\n",
        "monthly_data = df.groupby([ 'year','month', 'booking status']).size().unstack(fill_value=0).reset_index()\n",
        "\n",
        "# Renaming columns for clarity\n",
        "monthly_data.columns = [ 'year','month', 'Canceled', 'Not_Canceled']\n",
        "\n",
        "# Set the figure size\n",
        "fig, axes = plt.subplots(nrows=1, ncols=2, figsize=(13, 4))\n",
        "\n",
        "def plot_monthly_data(year, ax, plot_title):\n",
        "  # Plot for uncanceled reservations\n",
        "  sns.lineplot(\n",
        "      data=monthly_data[monthly_data[\"year\"] == year],\n",
        "      x='month',\n",
        "      y='Not_Canceled',\n",
        "      marker='o',\n",
        "      linewidth=2,\n",
        "      ax = axes[ax],\n",
        "      label = \"Not Canceled\"\n",
        "\n",
        "  )\n",
        "\n",
        "  # Plot for canceled reservations\n",
        "  sns.lineplot(\n",
        "      data=monthly_data[monthly_data[\"year\"] == year],\n",
        "      x='month',\n",
        "      y='Canceled',\n",
        "      linestyle='--',\n",
        "      marker='s',\n",
        "      linewidth=2,\n",
        "      ax = axes[ax],\n",
        "      label = \"Canceled\"\n",
        "  )\n",
        "  # Customize the plot\n",
        "  axes[ax].set_title(plot_title, fontsize=16, weight='bold')\n",
        "  axes[ax].set_xlabel('Month', fontsize=14)\n",
        "  axes[ax].set_ylabel('Count', fontsize=14)\n",
        "  axes[ax].set_xticks(ticks=range(1, 13), labels=[\"Jan\", \"Feb\", \"Mar\", \"Apr\", \"May\", \"Jun\", \"Jul\", \"Aug\", \"Sep\", \"Oct\", \"Nov\", \"Dec\"])\n",
        "\n",
        "\n",
        "\n",
        "plot_monthly_data(2017, 0, 'Cancelation vs Non-cancelation in (2017)')\n",
        "plot_monthly_data(2018, 1, 'Cancelation vs Non-cancelation in (2018)')\n",
        "\n",
        "\n",
        "\n",
        "# Improve layout and show the plot\n",
        "plt.tight_layout()\n",
        "plt.show()\n"
      ]
    },
    {
      "cell_type": "markdown",
      "metadata": {
        "id": "MwUCMlXOcHBp"
      },
      "source": [
        "<font color=\"yellow\" size = 5> 1.Number of cancelation (may-July) exceeds Number of non-cancelation\n",
        "\n",
        "<font color=\"yellow\" size = 5> 2.In the end of both years, non-cancelation excels cancelation in high value"
      ]
    },
    {
      "cell_type": "code",
      "execution_count": null,
      "metadata": {
        "colab": {
          "base_uri": "https://localhost:8080/",
          "height": 757,
          "referenced_widgets": [
            "a5bdafb2b7ae41238fb9889cf9d15d9b",
            "762d7314f45c43618662f2a944071fb7",
            "64f2b4270a9c4354aa221b5bef8d3e38",
            "2686b4c11bda47c783a2c521fedc8c29",
            "52ead0e939a64e589131acfcf1dd7ea0",
            "89b429d917054f6db47741fdd99ff254",
            "74b7baa831324448baec1834c2639360",
            "8f98a4f95ba249799f707a8365e2aa90",
            "1d7edfc97e2947418316477c30ffd627",
            "54ac97cc31fa430e91caf1f27ba56bad"
          ]
        },
        "id": "gtkfidYQZAvt",
        "outputId": "03281814-fcc2-4169-8cb0-4b87be406191"
      },
      "outputs": [],
      "source": [
        "# @title <font color = \"cyan\" size = 5>**Cancelation vs Not-Cancelation  Based on your Option**\n",
        "\n",
        "from ipywidgets import interact, widgets\n",
        "\n",
        "# Sample data preparation\n",
        "dialy_data = df.groupby([\"month\", \"year\", \"day\", \"booking status\"]).size().unstack(fill_value=0).reset_index()\n",
        "\n",
        "# Renaming columns for clarity\n",
        "dialy_data.columns = [\"month\", \"year\", \"day\", \"Canceled\", \"Not_Canceled\"]\n",
        "\n",
        "# Function to plot dynamically\n",
        "def plot_dialy_data(month, year):\n",
        "    fig, ax = plt.subplots(figsize=(10, 6))\n",
        "\n",
        "    # Filter data based on selected month and year\n",
        "    filtered_data = dialy_data[(dialy_data[\"month\"] == month) & (dialy_data[\"year\"] == year)]\n",
        "\n",
        "    # Plot for uncanceled reservations\n",
        "    sns.lineplot(\n",
        "        data=filtered_data,\n",
        "        x='day',\n",
        "        y='Not_Canceled',\n",
        "        marker='o',\n",
        "        linewidth=2,\n",
        "        label=\"Not Canceled\",\n",
        "        ax=ax\n",
        "    )\n",
        "\n",
        "    # Plot for canceled reservations\n",
        "    sns.lineplot(\n",
        "        data=filtered_data,\n",
        "        x='day',\n",
        "        y='Canceled',\n",
        "        linestyle='--',\n",
        "        marker='s',\n",
        "        linewidth=2,\n",
        "        label=\"Canceled\",\n",
        "        ax=ax\n",
        "    )\n",
        "\n",
        "    # Customize the plot\n",
        "    ax.set_title(f\"Daily Reservations for {year} - Month {month}\", fontsize=16, weight='bold')\n",
        "    ax.set_xlabel('Day', fontsize=14)\n",
        "    ax.set_ylabel('Count', fontsize=14)\n",
        "    ax.legend(title=\"Status\", fontsize=12)\n",
        "\n",
        "    plt.tight_layout()\n",
        "    plt.show()\n",
        "\n",
        "# Dropdown widgets for filtering\n",
        "month_widget = widgets.Dropdown(\n",
        "    options=range(1, 13),\n",
        "    value=7,\n",
        "    description='Month:',\n",
        "    style={'description_width': 'initial'}\n",
        ")\n",
        "\n",
        "year_widget = widgets.Dropdown(\n",
        "    options=dialy_data[\"year\"].unique(),\n",
        "    value=2017,\n",
        "    description='Year:',\n",
        "    style={'description_width': 'initial'}\n",
        ")\n",
        "\n",
        "# Interactive plot\n",
        "interact(plot_dialy_data, month=month_widget, year=year_widget)\n"
      ]
    },
    {
      "cell_type": "markdown",
      "metadata": {
        "id": "6wZtjJm0c0ev"
      },
      "source": [
        "<font color=\"yellow\" size = 5> 1. When we drill down, I found that most of reservation canceled in July, 2017 so we notice at the previous figure excedding of Cancelation\n",
        "\n",
        "<font color=\"yellow\" size = 5> 2. In August, 2017, Number of cancelation become increasing especially at day = 15\n",
        "\n",
        "<font color=\"yellow\" size = 5> 2. In end of 2017, Number of non-cancelation is so low during month"
      ]
    },
    {
      "cell_type": "code",
      "execution_count": null,
      "metadata": {
        "colab": {
          "base_uri": "https://localhost:8080/",
          "height": 178
        },
        "id": "QUs_LB1_p6vm",
        "outputId": "d1778ab3-d738-4a2b-c2a1-217531bf88dc"
      },
      "outputs": [],
      "source": [
        "df[(df[\"year\"] == 2018) &(df[\"month\"] == 12)]['booking status'].value_counts()"
      ]
    },
    {
      "cell_type": "code",
      "execution_count": null,
      "metadata": {
        "colab": {
          "base_uri": "https://localhost:8080/",
          "height": 496
        },
        "id": "28rtG3JFgV-z",
        "outputId": "62463565-5d60-4277-c01e-2292c26fae82"
      },
      "outputs": [],
      "source": [
        "freeOfferPerMonth = df[df[\"average price\"] == 0].groupby([\"year\", \"month\"]).size().reset_index(name = \"Free Offer Count\")\n",
        "sns.lineplot(data=freeOfferPerMonth, x='month', y='Free Offer Count', hue='year', marker='o', linewidth=2, palette= \"viridis\")\n",
        "plt.title('Number of Free Offers per Month', fontsize=16, weight='bold')\n",
        "plt.xlabel('Month', fontsize=14)\n",
        "plt.ylabel('Number of Free Offers', fontsize=14)\n"
      ]
    },
    {
      "cell_type": "markdown",
      "metadata": {
        "id": "ADr6AAoMi9Pf"
      },
      "source": [
        "<font color=\"yellow\" size = 5> In general, number of free offers given for visiors during year were more in 2017.It is possible due to openning newly so it was trying to make marketings and understand more\n",
        "\n",
        "\n",
        "<font color=\"yellow\" size = 5> from this figure the free offers can't so high, they were in 20,...,60, so in the previous figure there was high difference bw cancelations & non-cancelations in 2017 not becauase of high free offers"
      ]
    },
    {
      "cell_type": "code",
      "execution_count": null,
      "metadata": {
        "colab": {
          "base_uri": "https://localhost:8080/",
          "height": 496
        },
        "id": "uxJirPhcmugI",
        "outputId": "6a5e06e3-cb8e-4cd5-858c-a5e8f78540c0"
      },
      "outputs": [],
      "source": [
        "freeOfferPerMonth = df.groupby([\"year\", \"month\",])[ \"average price\"].mean().reset_index(name = \"average price\")\n",
        "sns.lineplot(data=freeOfferPerMonth, x='month', y=\"average price\", hue='year', marker='o', linewidth=2, palette= \"viridis\")\n",
        "plt.title('Average price', fontsize=16, weight='bold')\n",
        "plt.xlabel('Month', fontsize=14)\n",
        "plt.ylabel('Average price over years', fontsize=14)"
      ]
    },
    {
      "cell_type": "markdown",
      "metadata": {
        "id": "mT2nZqyTo7sR"
      },
      "source": [
        "\n",
        "<font color=\"yellow\" size = 5> For marketing purposes they start with low prices in 217 compared with 2018"
      ]
    },
    {
      "cell_type": "code",
      "execution_count": null,
      "metadata": {
        "cellView": "form",
        "colab": {
          "base_uri": "https://localhost:8080/",
          "height": 476
        },
        "collapsed": true,
        "id": "XvzxA9WEnVe7",
        "outputId": "29a0b756-6060-487f-a036-668e771f62e2"
      },
      "outputs": [],
      "source": [
        "# @title  later\n",
        "fig, axes = plt.subplots(nrows=1, ncols=2, figsize=(13, 4))\n",
        "\n",
        "# First plot: Number of Reservations per Day (Average Price = 0)\n",
        "x_day_free = df[df[\"average price\"] == 0][\"day\"].value_counts().index\n",
        "y_day_free = df[df[\"average price\"] == 0][\"day\"].value_counts().values\n",
        "sns.lineplot(x=x_day_free, y=y_day_free, palette=\"muted\", ax=axes[0])\n",
        "axes[0].set_title('Number of Reservations per Day (Average Price = 0)', fontsize=12, weight='bold')\n",
        "axes[0].set_xlabel('Day', fontsize=10, weight='bold')\n",
        "axes[0].set_ylabel('Number of Reservations', fontsize=10, weight='bold')\n",
        "\n",
        "# Second plot: Number of Reservations per Day\n",
        "x_day = df[\"day\"].value_counts().index\n",
        "y_day = df[\"day\"].value_counts().values\n",
        "sns.lineplot(x=x_day, y=y_day, palette=\"muted\", ax=axes[1])\n",
        "axes[1].set_title('Number of Reservations per Day', fontsize=12, weight='bold')\n",
        "axes[1].set_xlabel('Day', fontsize=10, weight='bold')\n",
        "axes[1].set_ylabel('Number of Reservations', fontsize=10, weight='bold')\n",
        "\n",
        "# Adjust spacing between subplots\n",
        "plt.tight_layout()\n",
        "plt.show()\n"
      ]
    },
    {
      "cell_type": "code",
      "execution_count": null,
      "metadata": {
        "cellView": "form",
        "colab": {
          "base_uri": "https://localhost:8080/",
          "height": 476
        },
        "collapsed": true,
        "id": "NeRjJht38mg2",
        "outputId": "43aff78a-b920-407b-a0cf-b39aacfba0f4"
      },
      "outputs": [],
      "source": [
        "# @title later\n",
        "fig, axes = plt.subplots(nrows=1, ncols=2, figsize=(13, 4))\n",
        "\n",
        "# First plot: Number of Reservations per Day (Average Price = 0)\n",
        "x_day_free = df[df[\"average price\"] == 0][\"month\"].value_counts().index\n",
        "y_day_free = df[df[\"average price\"] == 0][\"month\"].value_counts().values\n",
        "sns.lineplot(x=x_day_free, y=y_day_free, palette=\"muted\", ax=axes[0])\n",
        "axes[0].set_title('Number of Reservations per Day (Average Price = 0)', fontsize=12, weight='bold')\n",
        "axes[0].set_xlabel('Day', fontsize=10, weight='bold')\n",
        "axes[0].set_ylabel('Number of Reservations', fontsize=10, weight='bold')\n",
        "\n",
        "# Second plot: Number of Reservations per Day\n",
        "x_day = df[\"month\"].value_counts().index\n",
        "y_day = df[\"month\"].value_counts().values\n",
        "sns.lineplot(x=x_day, y=y_day, palette=\"muted\", ax=axes[1])\n",
        "axes[1].set_title('Number of Reservations per Day', fontsize=12, weight='bold')\n",
        "axes[1].set_xlabel('Day', fontsize=10, weight='bold')\n",
        "axes[1].set_ylabel('Number of Reservations', fontsize=10, weight='bold')\n",
        "\n",
        "# Adjust spacing between subplots\n",
        "plt.tight_layout()\n",
        "plt.show()\n"
      ]
    },
    {
      "cell_type": "code",
      "execution_count": null,
      "metadata": {
        "colab": {
          "base_uri": "https://localhost:8080/",
          "height": 607
        },
        "id": "hukSepZ-r4Tf",
        "outputId": "42ec903d-173b-4623-c04d-49483358c687"
      },
      "outputs": [],
      "source": [
        "# Group by year and reservation status (canceled or not) and count the occurrences\n",
        "cancel_counts = df.groupby(['year', 'booking status']).size().unstack(fill_value=0)\n",
        "\n",
        "# Normalize to percentages (divide by the total reservations for each year)\n",
        "cancel_percent = cancel_counts.div(cancel_counts.sum(axis=1), axis=0) * 100\n",
        "\n",
        "# Plotting the stacked barplot\n",
        "cancel_percent.plot(kind='bar', stacked=True, figsize=(10, 6), color=[ 'salmon', 'lightblue'])\n",
        "\n",
        "# Customize the plot\n",
        "plt.title('Percentage of Canceled vs. Non-Canceled Reservations by Year', fontsize=16, weight='bold')\n",
        "plt.xlabel('Year', fontsize=14)\n",
        "plt.ylabel('Percentage (%)', fontsize=14)\n",
        "plt.legend(title='Reservation Status', labels=[ 'Canceled', 'Non-Canceled'], fontsize=12)\n",
        "\n",
        "# Show the plot\n",
        "plt.tight_layout()\n",
        "plt.show()\n"
      ]
    },
    {
      "cell_type": "markdown",
      "metadata": {
        "id": "wVakoJL_7Esb"
      },
      "source": [
        "<font color=\"yellow\" size = 5> Percent of cancelation from total is higher than 2017"
      ]
    },
    {
      "cell_type": "code",
      "execution_count": null,
      "metadata": {
        "colab": {
          "base_uri": "https://localhost:8080/",
          "height": 466
        },
        "id": "U6JY3bwJrucV",
        "outputId": "1e352650-9376-48fc-fcc9-49bd3e76e278"
      },
      "outputs": [],
      "source": [
        "sns.barplot(data = df, x = \"market segment type\", y = \"average price\")"
      ]
    },
    {
      "cell_type": "code",
      "execution_count": null,
      "metadata": {
        "colab": {
          "base_uri": "https://localhost:8080/",
          "height": 466
        },
        "id": "50hUMpCqMnvt",
        "outputId": "01c29570-56b6-4b58-d65c-036fc3fe28df"
      },
      "outputs": [],
      "source": [
        "canceled = df[df[\"booking status\"] == \"Canceled\"]\n",
        "non_canceled = df[df[\"booking status\"] == \"Not_Canceled\"]\n",
        "sns.histplot(non_canceled[\"average price\"], label = \"Not Canceled\", color = \"green\", kde=True)\n",
        "sns.histplot(canceled[\"average price\"], label = \"Canceled\", color = \"red\", kde=True)\n",
        "plt.legend()"
      ]
    },
    {
      "cell_type": "markdown",
      "metadata": {
        "id": "ehcUJPVn0h3f"
      },
      "source": [
        "<font color = \"yellow\" size =5> 1.More Avg price means high probability to cancel\n",
        "\n",
        "\n",
        "\n",
        "\n"
      ]
    },
    {
      "cell_type": "code",
      "execution_count": null,
      "metadata": {
        "colab": {
          "base_uri": "https://localhost:8080/",
          "height": 466
        },
        "id": "ZgUgQuobMnkp",
        "outputId": "acb28f3f-07b6-4c42-c49f-e9d7b2b4fc3b"
      },
      "outputs": [],
      "source": [
        "sns.histplot(non_canceled['lead time'], label = \"Not Canceled\", color = \"green\", kde=True)\n",
        "sns.histplot(canceled['lead time'], label = \"Canceled\", color = \"red\", kde=True)\n",
        "plt.legend()"
      ]
    },
    {
      "cell_type": "markdown",
      "metadata": {
        "id": "C34m_bfb0Blc"
      },
      "source": [
        "<font color = \"yellow\" size =5> 1.More Lead Time means high probability to cancel\n",
        "\n",
        "\n",
        "\n",
        "\n"
      ]
    },
    {
      "cell_type": "code",
      "execution_count": null,
      "metadata": {
        "colab": {
          "base_uri": "https://localhost:8080/",
          "height": 143
        },
        "id": "bsZ9C9RK3G5o",
        "outputId": "e7d96d31-1251-407f-be4a-b4a0c4d11bf3"
      },
      "outputs": [],
      "source": [
        "pd.crosstab(canceled['repeated'], canceled['market segment type'], normalize = \"columns\")"
      ]
    },
    {
      "cell_type": "code",
      "execution_count": null,
      "metadata": {
        "colab": {
          "base_uri": "https://localhost:8080/",
          "height": 143
        },
        "id": "lIztkNHP3sfA",
        "outputId": "14e4d945-4850-4ca0-8304-34d67fecccce"
      },
      "outputs": [],
      "source": [
        "pd.crosstab(non_canceled['repeated'], non_canceled['market segment type'], normalize = \"columns\")"
      ]
    },
    {
      "cell_type": "code",
      "execution_count": null,
      "metadata": {
        "id": "dRNlPeS_isTG"
      },
      "outputs": [],
      "source": [
        "#df.drop(columns = [\"P-not-C\", \"P-C\", \"number of week nights\", \"number of weekend nights\", \"number of adults\", \"number of children\"], inplace = True)"
      ]
    },
    {
      "cell_type": "markdown",
      "metadata": {
        "id": "IeNPjAAwxW3G"
      },
      "source": [
        "<font color=\"fuchsia\" size =6> Detect Ourliers"
      ]
    },
    {
      "cell_type": "code",
      "execution_count": null,
      "metadata": {
        "colab": {
          "base_uri": "https://localhost:8080/"
        },
        "id": "7HzL_tWuAQy_",
        "outputId": "1f624a2b-8eb8-4b27-bda3-fe9a70bebe45"
      },
      "outputs": [],
      "source": [
        "['number of adults', 'number of children', 'number of weekend nights',\n",
        "'number of week nights',\n",
        "        'lead time', 'P-C',\n",
        "       'P-not-C', 'average price'\n",
        "        'total_stay_night', 'total_visiors',\n",
        "       'percent_canceled']"
      ]
    },
    {
      "cell_type": "code",
      "execution_count": null,
      "metadata": {
        "colab": {
          "base_uri": "https://localhost:8080/",
          "height": 1000
        },
        "id": "WmzEBqxExoFr",
        "outputId": "4ee816ef-4494-4dc9-cd16-dfb14bcdf489"
      },
      "outputs": [],
      "source": [
        "# Filter numeric features from the DataFrame\n",
        "numeric_features = df.select_dtypes(include=[\"float64\", \"int64\"]).columns\n",
        "\n",
        "# Set up a figure with subplots for all numeric features\n",
        "num_features = len(numeric_features)\n",
        "rows = (num_features + 2) // 3  # Number of rows (3 plots per row)\n",
        "fig, axes = plt.subplots(rows, 3, figsize=(18, 5 * rows))\n",
        "\n",
        "# Flatten axes for easier indexing\n",
        "axes = axes.flatten()\n",
        "\n",
        "# Create a box plot for each numeric feature\n",
        "for i, feature in enumerate(numeric_features):\n",
        "    sns.boxplot(data=df, y=feature, ax=axes[i], palette=\"Set2\")\n",
        "    axes[i].set_title(f\"Box Plot of {feature}\", fontsize=12)\n",
        "    axes[i].set_ylabel(feature, fontsize=10)\n",
        "    axes[i].set_xlabel(\"\")\n",
        "\n",
        "# Hide any unused subplots\n",
        "for i in range(len(numeric_features), len(axes)):\n",
        "    fig.delaxes(axes[i])\n",
        "\n",
        "# Adjust layout\n",
        "plt.tight_layout()\n",
        "plt.show()\n"
      ]
    },
    {
      "cell_type": "code",
      "execution_count": null,
      "metadata": {
        "colab": {
          "base_uri": "https://localhost:8080/",
          "height": 1000
        },
        "id": "FxT3CLnJ0y55",
        "outputId": "c54c0745-8f2c-43f7-e6f7-3ff68e706096"
      },
      "outputs": [],
      "source": [
        "# Filter numeric columns\n",
        "numeric_features = df.select_dtypes(include=[\"float64\", \"int64\"])\n",
        "\n",
        "# Create subplots for each feature\n",
        "num_features = len(numeric_features.columns)\n",
        "rows = (num_features + 2) // 3  # 3 plots per row\n",
        "fig, axes = plt.subplots(rows, 3, figsize=(15, 5 * rows))\n",
        "axes = axes.flatten()\n",
        "\n",
        "# Plot each feature in a separate subplot\n",
        "for i, feature in enumerate(numeric_features.columns):\n",
        "    sns.histplot(data=df, x=feature, ax=axes[i], color=\"blue\", alpha=0.5)\n",
        "    axes[i].set_title(f\"Distribution of {feature}\", fontsize=12)\n",
        "    axes[i].set_xlabel(feature, fontsize=10)\n",
        "    axes[i].set_ylabel(\"Density\", fontsize=10)\n",
        "\n",
        "# Hide unused subplots\n",
        "for i in range(num_features, len(axes)):\n",
        "    fig.delaxes(axes[i])\n",
        "\n",
        "# Adjust layout\n",
        "plt.tight_layout()\n",
        "plt.show()\n"
      ]
    },
    {
      "cell_type": "code",
      "execution_count": null,
      "metadata": {
        "colab": {
          "base_uri": "https://localhost:8080/"
        },
        "id": "noLCSuAMHKwH",
        "outputId": "f6b76a84-bb7a-4d15-ad98-f2d86d738a28"
      },
      "outputs": [],
      "source": [
        "def get_outliers( column_val):\n",
        "    # Calculate Q1, Q3, and IQR\n",
        "    Q1 = column_val.quantile(0.25)\n",
        "    Q3 = column_val.quantile(0.75)\n",
        "    IQR = Q3 - Q1\n",
        "\n",
        "    # Define bounds\n",
        "    lower_bound = Q1 - 1.5 * IQR\n",
        "    upper_bound = Q3 + 1.5 * IQR\n",
        "\n",
        "    # Identify outliers\n",
        "    outliers = [ col_val for col_val in column_val if (col_val < lower_bound) | (col_val > upper_bound)]\n",
        "    number_of_outliers = len(outliers)\n",
        "\n",
        "    # Return results\n",
        "    return number_of_outliers, outliers\n",
        "\n",
        "# Call the function\n",
        "result_f1 = get_outliers(df['lead time'])\n",
        "result_f2 = get_outliers(df['average price'])\n",
        "\n",
        "print(f\"Number of Outliers of lead time = {result_f1[0]/df.shape[0]}\")\n",
        "print(f\"Number of Outliers of average price = {result_f2[0]/df.shape[0]}\")\n",
        "\n"
      ]
    },
    {
      "cell_type": "code",
      "execution_count": null,
      "metadata": {
        "id": "LEMoNGF8FsIC"
      },
      "outputs": [],
      "source": [
        "df['lead time'] = df['lead time'].apply(lambda x: np.log1p(x))\n",
        "df['average price'] = df['average price'].apply(lambda x: np.log1p(x))\n"
      ]
    },
    {
      "cell_type": "code",
      "execution_count": null,
      "metadata": {
        "colab": {
          "base_uri": "https://localhost:8080/"
        },
        "id": "ALqCCRj_FF2u",
        "outputId": "27f27067-a3a7-4d01-8621-0f20202f000b"
      },
      "outputs": [],
      "source": [
        "result_f1 = get_outliers(df['lead time'])\n",
        "result_f2 = get_outliers(df['average price'])\n",
        "print(f\"After, Number of Outliers of lead time = {result_f1[0]/df.shape[0]}\")\n",
        "print(f\"After, Number of Outliers of average price = {result_f2[0]/df.shape[0]}\")\n"
      ]
    },
    {
      "cell_type": "markdown",
      "metadata": {
        "id": "okSwPUXFQYLV"
      },
      "source": [
        "<font color=\"fuchsia\" size =6> Encoding Features"
      ]
    },
    {
      "cell_type": "code",
      "execution_count": null,
      "metadata": {
        "id": "mTLeqtMeQeTc"
      },
      "outputs": [],
      "source": [
        "cat_cols = df.select_dtypes(exclude=[\"float64\", \"int64\"]).columns[:-3]"
      ]
    },
    {
      "cell_type": "code",
      "execution_count": null,
      "metadata": {
        "colab": {
          "base_uri": "https://localhost:8080/"
        },
        "id": "Cj1L5bSkVM8a",
        "outputId": "ca790016-78cf-423e-bd46-e67b287d30f1"
      },
      "outputs": [],
      "source": [
        "# Mapping dictionaries\n",
        "meal_dict = {\"Not Selected\": 1, 'Meal Plan 1': 2, 'Meal Plan 2': 3, 'Meal Plan 3': 4}\n",
        "room_dict = {'Room_Type 1': 1, 'Room_Type 2': 2, 'Room_Type 3': 3, 'Room_Type 4': 4, 'Room_Type 5': 5, 'Room_Type 6': 6, 'Room_Type 7': 7}\n",
        "booking_status_dict = {'Not_Canceled': 0, 'Canceled': 1}\n",
        "\n",
        "# Apply replacements for meal, room type, and booking status\n",
        "df['type of meal'] = df['type of meal'].replace(meal_dict)\n",
        "df['room type'] = df['room type'].replace(room_dict)\n",
        "df['booking status'] = df['booking status'].replace(booking_status_dict)\n",
        "\n",
        "# Apply get_dummies for market_segment type\n",
        "df = pd.concat([df, pd.get_dummies(df['market segment type'], prefix='market_segment')], axis=1)\n",
        "\n",
        "# Drop the original market_segment column\n",
        "df.drop('market segment type', axis=1, inplace=True)\n",
        "\n",
        "\n"
      ]
    },
    {
      "cell_type": "code",
      "execution_count": null,
      "metadata": {
        "colab": {
          "base_uri": "https://localhost:8080/",
          "height": 307
        },
        "id": "2UMNYijtXZ8r",
        "outputId": "53c6d600-32d8-46ba-ab99-18ed024993d5"
      },
      "outputs": [],
      "source": [
        "df.head()"
      ]
    },
    {
      "cell_type": "markdown",
      "metadata": {
        "id": "rWnOrbARxhqW"
      },
      "source": [
        "<font color=\"fuchsia\" size =6> Scaling Features"
      ]
    },
    {
      "cell_type": "code",
      "execution_count": null,
      "metadata": {
        "id": "DI1FD2NwpdFg"
      },
      "outputs": [],
      "source": [
        "x = df.drop(\"booking status\", axis = 1)\n",
        "y = df[\"booking status\"]\n"
      ]
    },
    {
      "cell_type": "code",
      "execution_count": null,
      "metadata": {
        "id": "6MATQ9xJnVVp"
      },
      "outputs": [],
      "source": [
        "import pandas as pd\n",
        "from sklearn.preprocessing import StandardScaler\n",
        "\n",
        "# Initialize the StandardScaler\n",
        "scaler = StandardScaler()\n",
        "\n",
        "# Fit and transform the data\n",
        "scaled_array = scaler.fit_transform(x)\n",
        "\n",
        "# Convert back to DataFrame for better readability\n",
        "x = pd.DataFrame(scaled_array, columns=x.columns)\n",
        "\n",
        "\n"
      ]
    },
    {
      "cell_type": "code",
      "execution_count": null,
      "metadata": {
        "colab": {
          "base_uri": "https://localhost:8080/"
        },
        "id": "vGLDCItNbTUp",
        "outputId": "2a05efca-8454-4585-e344-706fccbf467d"
      },
      "outputs": [],
      "source": [
        "from statsmodels.stats.outliers_influence import variance_inflation_factor\n",
        "\n",
        "x['constant'] = 1\n",
        "\n",
        "# Calculate VIF for each feature\n",
        "vif_data = pd.DataFrame()\n",
        "vif_data['Feature'] = x.columns\n",
        "vif_data['VIF'] = [variance_inflation_factor(x.values, i) for i in range(x.shape[1])]\n",
        "\n",
        "# Drop the constant term from the results\n",
        "vif_data = vif_data[vif_data['Feature'] != 'constant']\n",
        "\n",
        "print(vif_data)\n"
      ]
    },
    {
      "cell_type": "markdown",
      "metadata": {
        "id": "8-a-x1SFzc2W"
      },
      "source": [
        "# **Model**"
      ]
    },
    {
      "cell_type": "code",
      "execution_count": null,
      "metadata": {
        "colab": {
          "base_uri": "https://localhost:8080/"
        },
        "id": "bq6j9b6azgip",
        "outputId": "b9a84d8c-19a0-4f9f-df37-f68b80f4003b"
      },
      "outputs": [
        {
          "name": "stdout",
          "output_type": "stream",
          "text": [
            "Collecting catboost\n",
            "  Downloading catboost-1.2.7-cp311-cp311-manylinux2014_x86_64.whl.metadata (1.2 kB)\n",
            "Requirement already satisfied: graphviz in /usr/local/lib/python3.11/dist-packages (from catboost) (0.20.3)\n",
            "Requirement already satisfied: matplotlib in /usr/local/lib/python3.11/dist-packages (from catboost) (3.10.0)\n",
            "Requirement already satisfied: numpy<2.0,>=1.16.0 in /usr/local/lib/python3.11/dist-packages (from catboost) (1.26.4)\n",
            "Requirement already satisfied: pandas>=0.24 in /usr/local/lib/python3.11/dist-packages (from catboost) (2.2.2)\n",
            "Requirement already satisfied: scipy in /usr/local/lib/python3.11/dist-packages (from catboost) (1.13.1)\n",
            "Requirement already satisfied: plotly in /usr/local/lib/python3.11/dist-packages (from catboost) (5.24.1)\n",
            "Requirement already satisfied: six in /usr/local/lib/python3.11/dist-packages (from catboost) (1.17.0)\n",
            "Requirement already satisfied: python-dateutil>=2.8.2 in /usr/local/lib/python3.11/dist-packages (from pandas>=0.24->catboost) (2.8.2)\n",
            "Requirement already satisfied: pytz>=2020.1 in /usr/local/lib/python3.11/dist-packages (from pandas>=0.24->catboost) (2024.2)\n",
            "Requirement already satisfied: tzdata>=2022.7 in /usr/local/lib/python3.11/dist-packages (from pandas>=0.24->catboost) (2025.1)\n",
            "Requirement already satisfied: contourpy>=1.0.1 in /usr/local/lib/python3.11/dist-packages (from matplotlib->catboost) (1.3.1)\n",
            "Requirement already satisfied: cycler>=0.10 in /usr/local/lib/python3.11/dist-packages (from matplotlib->catboost) (0.12.1)\n",
            "Requirement already satisfied: fonttools>=4.22.0 in /usr/local/lib/python3.11/dist-packages (from matplotlib->catboost) (4.55.4)\n",
            "Requirement already satisfied: kiwisolver>=1.3.1 in /usr/local/lib/python3.11/dist-packages (from matplotlib->catboost) (1.4.8)\n",
            "Requirement already satisfied: packaging>=20.0 in /usr/local/lib/python3.11/dist-packages (from matplotlib->catboost) (24.2)\n",
            "Requirement already satisfied: pillow>=8 in /usr/local/lib/python3.11/dist-packages (from matplotlib->catboost) (11.1.0)\n",
            "Requirement already satisfied: pyparsing>=2.3.1 in /usr/local/lib/python3.11/dist-packages (from matplotlib->catboost) (3.2.1)\n",
            "Requirement already satisfied: tenacity>=6.2.0 in /usr/local/lib/python3.11/dist-packages (from plotly->catboost) (9.0.0)\n",
            "Downloading catboost-1.2.7-cp311-cp311-manylinux2014_x86_64.whl (98.7 MB)\n",
            "\u001b[2K   \u001b[90m━━━━━━━━━━━━━━━━━━━━━━━━━━━━━━━━━━━━━━━━\u001b[0m \u001b[32m98.7/98.7 MB\u001b[0m \u001b[31m8.0 MB/s\u001b[0m eta \u001b[36m0:00:00\u001b[0m\n",
            "\u001b[?25hInstalling collected packages: catboost\n",
            "Successfully installed catboost-1.2.7\n"
          ]
        }
      ],
      "source": [
        "!pip install catboost\n"
      ]
    },
    {
      "cell_type": "code",
      "execution_count": null,
      "metadata": {
        "id": "umdLSSnSnyje"
      },
      "outputs": [],
      "source": [
        "# Import libraries\n",
        "from sklearn.svm import SVC  # Support Vector Machine\n",
        "from sklearn.linear_model import LogisticRegression  # Logistic Regression\n",
        "from sklearn.naive_bayes import GaussianNB  # Naive Bayes\n",
        "from sklearn.ensemble import RandomForestClassifier  # Random Forest\n",
        "from xgboost import XGBClassifier  # XGBoost\n",
        "from sklearn.metrics import accuracy_score, f1_score, confusion_matrix\n",
        "from sklearn.model_selection import train_test_split\n",
        "from sklearn.neighbors import KNeighborsClassifier\n",
        "from sklearn.ensemble import AdaBoostClassifier\n",
        "from catboost import CatBoostClassifier\n",
        "\n",
        "# Split into training and testing sets\n",
        "X_train, X_test, y_train, y_test = train_test_split(x, y, test_size=0.3, random_state=42)\n",
        "\n"
      ]
    },
    {
      "cell_type": "code",
      "execution_count": null,
      "metadata": {
        "colab": {
          "base_uri": "https://localhost:8080/"
        },
        "id": "23xifrW_us11",
        "outputId": "19b87313-a5c8-4944-9756-e8f3582edcdc"
      },
      "outputs": [
        {
          "data": {
            "text/plain": [
              "<catboost.core.CatBoostClassifier at 0x7e75f12bf2d0>"
            ]
          },
          "execution_count": 97,
          "metadata": {},
          "output_type": "execute_result"
        }
      ],
      "source": [
        "# 1. Train Random Forest Classifier\n",
        "rf_model = RandomForestClassifier(n_estimators=200, random_state=42)\n",
        "rf_model.fit(X_train, y_train)\n",
        "\n",
        "# 2. Train XGBoost Classifier\n",
        "xgb_model = XGBClassifier(use_label_encoder=False, eval_metric='logloss', random_state=42)\n",
        "xgb_model.fit(X_train, y_train)\n",
        "\n",
        "\n",
        "# 3. Train Support Vector Machine Classifier (SVM)\n",
        "svm_model = SVC(random_state=42)\n",
        "svm_model.fit(X_train, y_train)\n",
        "\n",
        "\n",
        "# 4. Train Logistic Regression Classifier\n",
        "logreg_model = LogisticRegression(random_state=42)\n",
        "logreg_model.fit(X_train, y_train)\n",
        "\n",
        "\n",
        "# 5. Train Naive Bayes Classifier\n",
        "nb_model = GaussianNB()\n",
        "nb_model.fit(X_train, y_train)\n",
        "\n",
        "# --------- K-Nearest Neighbors (KNN) ---------\n",
        "knn_model = KNeighborsClassifier(n_neighbors=5)\n",
        "knn_model.fit(X_train, y_train)\n",
        "\n",
        "# ----------- AdaBoost --------\n",
        "adaboost_model = AdaBoostClassifier(n_estimators=50, random_state=42)\n",
        "adaboost_model.fit(X_train, y_train)\n",
        "\n",
        "\n",
        "# ---------- CatBoost Classifier---------\n",
        "catboost_model = CatBoostClassifier(iterations=500, learning_rate=0.05, depth=6, cat_features=[], random_state=42, verbose=0)\n",
        "catboost_model.fit(X_train, y_train)\n",
        "\n"
      ]
    },
    {
      "cell_type": "code",
      "execution_count": null,
      "metadata": {
        "colab": {
          "base_uri": "https://localhost:8080/"
        },
        "id": "ofqT4yNTuyC6",
        "outputId": "afbe98bd-2f03-46ac-f0c6-bd290769f2ce"
      },
      "outputs": [
        {
          "name": "stdout",
          "output_type": "stream",
          "text": [
            "Random Forest Accuracy: 0.9026\n",
            "Random Forest F1-Score: 0.8453\n"
          ]
        },
        {
          "name": "stderr",
          "output_type": "stream",
          "text": [
            "Exception ignored on calling ctypes callback function: <function ThreadpoolController._find_libraries_with_dl_iterate_phdr.<locals>.match_library_callback at 0x7e75f1ea6700>\n",
            "Traceback (most recent call last):\n",
            "  File \"/usr/local/lib/python3.11/dist-packages/threadpoolctl.py\", line 1005, in match_library_callback\n",
            "    self._make_controller_from_path(filepath)\n",
            "  File \"/usr/local/lib/python3.11/dist-packages/threadpoolctl.py\", line 1175, in _make_controller_from_path\n",
            "    lib_controller = controller_class(\n",
            "                     ^^^^^^^^^^^^^^^^^\n",
            "  File \"/usr/local/lib/python3.11/dist-packages/threadpoolctl.py\", line 114, in __init__\n",
            "    self.dynlib = ctypes.CDLL(filepath, mode=_RTLD_NOLOAD)\n",
            "                  ^^^^^^^^^^^^^^^^^^^^^^^^^^^^^^^^^^^^^^^^\n",
            "  File \"/usr/lib/python3.11/ctypes/__init__.py\", line 376, in __init__\n",
            "    self._handle = _dlopen(self._name, mode)\n",
            "                   ^^^^^^^^^^^^^^^^^^^^^^^^^\n",
            "OSError: dlopen() error\n"
          ]
        },
        {
          "name": "stdout",
          "output_type": "stream",
          "text": [
            "SVM Accuracy: 0.8317\n",
            "SVM F1-Score: 0.7209\n",
            "Logistic Regression Accuracy: 0.7983\n",
            "Logistic Regression F1-Score: 0.6668\n",
            "Naive Bayes Accuracy: 0.4145\n",
            "Naive Bayes F1-Score: 0.5214\n",
            "AdaBoost Accuracy: 0.8161\n",
            "AdaBoost F1-Score: 0.7071\n",
            "KNN Accuracy: 0.8393\n",
            "KNN F1-Score: 0.7481\n",
            "CatBoost Accuracy: 0.8816\n",
            "CatBoost F1-Score: 0.8099\n"
          ]
        }
      ],
      "source": [
        "# ------ Random Forest ---------\n",
        "rf_predictions = rf_model.predict(X_test)\n",
        "rf_accuracy = accuracy_score(y_test, rf_predictions)\n",
        "rf_f1 = f1_score(y_test, rf_predictions)\n",
        "print(f\"Random Forest Accuracy: {rf_accuracy:.4f}\")\n",
        "print(f\"Random Forest F1-Score: {rf_f1:.4f}\")\n",
        "\n",
        "# ------ XGBoost ---------\n",
        "xgb_predictions = xgb_model.predict(X_test)\n",
        "xgb_accuracy = accuracy_score(y_test, xgb_predictions)\n",
        "xgb_f1 = f1_score(y_test, xgb_predictions)\n",
        "print(f\"XGBoost Accuracy: {xgb_accuracy:.4f}\")\n",
        "print(f\"XGBoost F1-Score: {xgb_f1:.4f}\")\n",
        "\n",
        "\n",
        "# ------- SVM -----------\n",
        "svm_predictions = svm_model.predict(X_test)\n",
        "svm_accuracy = accuracy_score(y_test, svm_predictions)\n",
        "svm_f1 = f1_score(y_test, svm_predictions)\n",
        "print(f\"SVM Accuracy: {svm_accuracy:.4f}\")\n",
        "print(f\"SVM F1-Score: {svm_f1:.4f}\")\n",
        "\n",
        "\n",
        "# -------- Logistic Regression ------\n",
        "logreg_predictions = logreg_model.predict(X_test)\n",
        "logreg_accuracy = accuracy_score(y_test, logreg_predictions)\n",
        "logreg_f1 = f1_score(y_test, logreg_predictions)\n",
        "print(f\"Logistic Regression Accuracy: {logreg_accuracy:.4f}\")\n",
        "print(f\"Logistic Regression F1-Score: {logreg_f1:.4f}\")\n",
        "\n",
        "\n",
        "# -------- Naive Bayes ---------\n",
        "nb_predictions = nb_model.predict(X_test)\n",
        "nb_accuracy = accuracy_score(y_test, nb_predictions)\n",
        "nb_f1 = f1_score(y_test, nb_predictions)\n",
        "print(f\"Naive Bayes Accuracy: {nb_accuracy:.4f}\")\n",
        "print(f\"Naive Bayes F1-Score: {nb_f1:.4f}\")\n",
        "\n",
        "from sklearn.metrics import accuracy_score, f1_score\n",
        "\n",
        "# --------- AdaBoost ---------\n",
        "adaboost_predictions = adaboost_model.predict(X_test)\n",
        "adaboost_accuracy = accuracy_score(y_test, adaboost_predictions)\n",
        "adaboost_f1 = f1_score(y_test, adaboost_predictions)\n",
        "print(f\"AdaBoost Accuracy: {adaboost_accuracy:.4f}\")\n",
        "print(f\"AdaBoost F1-Score: {adaboost_f1:.4f}\")\n",
        "\n",
        "# ----------- KNN --------\n",
        "knn_predictions = knn_model.predict(X_test)\n",
        "knn_accuracy = accuracy_score(y_test, knn_predictions)\n",
        "knn_f1 = f1_score(y_test, knn_predictions)\n",
        "print(f\"KNN Accuracy: {knn_accuracy:.4f}\")\n",
        "print(f\"KNN F1-Score: {knn_f1:.4f}\")\n",
        "\n",
        "# ------- CatBoost -------\n",
        "catboost_predictions = catboost_model.predict(X_test)\n",
        "catboost_accuracy = accuracy_score(y_test, catboost_predictions)\n",
        "catboost_f1 = f1_score(y_test, catboost_predictions)\n",
        "print(f\"CatBoost Accuracy: {catboost_accuracy:.4f}\")\n",
        "print(f\"CatBoost F1-Score: {catboost_f1:.4f}\")\n",
        "\n"
      ]
    },
    {
      "cell_type": "code",
      "execution_count": null,
      "metadata": {
        "colab": {
          "base_uri": "https://localhost:8080/",
          "height": 300
        },
        "id": "e_bmIw_K0ewJ",
        "outputId": "7d3ce6d5-a9ff-4e42-f906-659887690e79"
      },
      "outputs": [
        {
          "data": {
            "application/vnd.google.colaboratory.intrinsic+json": {
              "summary": "{\n  \"name\": \"df_metrics\",\n  \"rows\": 8,\n  \"fields\": [\n    {\n      \"column\": \"Model\",\n      \"properties\": {\n        \"dtype\": \"string\",\n        \"num_unique_values\": 8,\n        \"samples\": [\n          \"XGBoost\",\n          \"AdaBoost\",\n          \"Random Forest\"\n        ],\n        \"semantic_type\": \"\",\n        \"description\": \"\"\n      }\n    },\n    {\n      \"column\": \"Accuracy\",\n      \"properties\": {\n        \"dtype\": \"number\",\n        \"std\": 0.15892970087881175,\n        \"min\": 0.4145,\n        \"max\": 0.9026,\n        \"num_unique_values\": 8,\n        \"samples\": [\n          0.891,\n          0.8161,\n          0.9026\n        ],\n        \"semantic_type\": \"\",\n        \"description\": \"\"\n      }\n    },\n    {\n      \"column\": \"F1-Score\",\n      \"properties\": {\n        \"dtype\": \"number\",\n        \"std\": 0.10525078554169018,\n        \"min\": 0.5214,\n        \"max\": 0.8453,\n        \"num_unique_values\": 8,\n        \"samples\": [\n          0.8271,\n          0.7071,\n          0.8453\n        ],\n        \"semantic_type\": \"\",\n        \"description\": \"\"\n      }\n    }\n  ]\n}",
              "type": "dataframe"
            },
            "text/html": [
              "\n",
              "  <div id=\"df-547dcb02-0435-4bf8-805b-4a1d25eed484\" class=\"colab-df-container\">\n",
              "    <div>\n",
              "<style scoped>\n",
              "    .dataframe tbody tr th:only-of-type {\n",
              "        vertical-align: middle;\n",
              "    }\n",
              "\n",
              "    .dataframe tbody tr th {\n",
              "        vertical-align: top;\n",
              "    }\n",
              "\n",
              "    .dataframe thead th {\n",
              "        text-align: right;\n",
              "    }\n",
              "</style>\n",
              "<table border=\"1\" class=\"dataframe\">\n",
              "  <thead>\n",
              "    <tr style=\"text-align: right;\">\n",
              "      <th></th>\n",
              "      <th>Model</th>\n",
              "      <th>Accuracy</th>\n",
              "      <th>F1-Score</th>\n",
              "    </tr>\n",
              "  </thead>\n",
              "  <tbody>\n",
              "    <tr>\n",
              "      <th>0</th>\n",
              "      <td>Random Forest</td>\n",
              "      <td>0.9026</td>\n",
              "      <td>0.8453</td>\n",
              "    </tr>\n",
              "    <tr>\n",
              "      <th>1</th>\n",
              "      <td>XGBoost</td>\n",
              "      <td>0.8910</td>\n",
              "      <td>0.8271</td>\n",
              "    </tr>\n",
              "    <tr>\n",
              "      <th>7</th>\n",
              "      <td>CatBoost</td>\n",
              "      <td>0.8816</td>\n",
              "      <td>0.8099</td>\n",
              "    </tr>\n",
              "    <tr>\n",
              "      <th>6</th>\n",
              "      <td>KNN</td>\n",
              "      <td>0.8393</td>\n",
              "      <td>0.7481</td>\n",
              "    </tr>\n",
              "    <tr>\n",
              "      <th>2</th>\n",
              "      <td>SVM</td>\n",
              "      <td>0.8317</td>\n",
              "      <td>0.7209</td>\n",
              "    </tr>\n",
              "    <tr>\n",
              "      <th>5</th>\n",
              "      <td>AdaBoost</td>\n",
              "      <td>0.8161</td>\n",
              "      <td>0.7071</td>\n",
              "    </tr>\n",
              "    <tr>\n",
              "      <th>3</th>\n",
              "      <td>Logistic Regression</td>\n",
              "      <td>0.7983</td>\n",
              "      <td>0.6668</td>\n",
              "    </tr>\n",
              "    <tr>\n",
              "      <th>4</th>\n",
              "      <td>Naive Bayes</td>\n",
              "      <td>0.4145</td>\n",
              "      <td>0.5214</td>\n",
              "    </tr>\n",
              "  </tbody>\n",
              "</table>\n",
              "</div>\n",
              "    <div class=\"colab-df-buttons\">\n",
              "\n",
              "  <div class=\"colab-df-container\">\n",
              "    <button class=\"colab-df-convert\" onclick=\"convertToInteractive('df-547dcb02-0435-4bf8-805b-4a1d25eed484')\"\n",
              "            title=\"Convert this dataframe to an interactive table.\"\n",
              "            style=\"display:none;\">\n",
              "\n",
              "  <svg xmlns=\"http://www.w3.org/2000/svg\" height=\"24px\" viewBox=\"0 -960 960 960\">\n",
              "    <path d=\"M120-120v-720h720v720H120Zm60-500h600v-160H180v160Zm220 220h160v-160H400v160Zm0 220h160v-160H400v160ZM180-400h160v-160H180v160Zm440 0h160v-160H620v160ZM180-180h160v-160H180v160Zm440 0h160v-160H620v160Z\"/>\n",
              "  </svg>\n",
              "    </button>\n",
              "\n",
              "  <style>\n",
              "    .colab-df-container {\n",
              "      display:flex;\n",
              "      gap: 12px;\n",
              "    }\n",
              "\n",
              "    .colab-df-convert {\n",
              "      background-color: #E8F0FE;\n",
              "      border: none;\n",
              "      border-radius: 50%;\n",
              "      cursor: pointer;\n",
              "      display: none;\n",
              "      fill: #1967D2;\n",
              "      height: 32px;\n",
              "      padding: 0 0 0 0;\n",
              "      width: 32px;\n",
              "    }\n",
              "\n",
              "    .colab-df-convert:hover {\n",
              "      background-color: #E2EBFA;\n",
              "      box-shadow: 0px 1px 2px rgba(60, 64, 67, 0.3), 0px 1px 3px 1px rgba(60, 64, 67, 0.15);\n",
              "      fill: #174EA6;\n",
              "    }\n",
              "\n",
              "    .colab-df-buttons div {\n",
              "      margin-bottom: 4px;\n",
              "    }\n",
              "\n",
              "    [theme=dark] .colab-df-convert {\n",
              "      background-color: #3B4455;\n",
              "      fill: #D2E3FC;\n",
              "    }\n",
              "\n",
              "    [theme=dark] .colab-df-convert:hover {\n",
              "      background-color: #434B5C;\n",
              "      box-shadow: 0px 1px 3px 1px rgba(0, 0, 0, 0.15);\n",
              "      filter: drop-shadow(0px 1px 2px rgba(0, 0, 0, 0.3));\n",
              "      fill: #FFFFFF;\n",
              "    }\n",
              "  </style>\n",
              "\n",
              "    <script>\n",
              "      const buttonEl =\n",
              "        document.querySelector('#df-547dcb02-0435-4bf8-805b-4a1d25eed484 button.colab-df-convert');\n",
              "      buttonEl.style.display =\n",
              "        google.colab.kernel.accessAllowed ? 'block' : 'none';\n",
              "\n",
              "      async function convertToInteractive(key) {\n",
              "        const element = document.querySelector('#df-547dcb02-0435-4bf8-805b-4a1d25eed484');\n",
              "        const dataTable =\n",
              "          await google.colab.kernel.invokeFunction('convertToInteractive',\n",
              "                                                    [key], {});\n",
              "        if (!dataTable) return;\n",
              "\n",
              "        const docLinkHtml = 'Like what you see? Visit the ' +\n",
              "          '<a target=\"_blank\" href=https://colab.research.google.com/notebooks/data_table.ipynb>data table notebook</a>'\n",
              "          + ' to learn more about interactive tables.';\n",
              "        element.innerHTML = '';\n",
              "        dataTable['output_type'] = 'display_data';\n",
              "        await google.colab.output.renderOutput(dataTable, element);\n",
              "        const docLink = document.createElement('div');\n",
              "        docLink.innerHTML = docLinkHtml;\n",
              "        element.appendChild(docLink);\n",
              "      }\n",
              "    </script>\n",
              "  </div>\n",
              "\n",
              "\n",
              "<div id=\"df-3c518b39-0ba8-4422-8182-c77fa7d18ab2\">\n",
              "  <button class=\"colab-df-quickchart\" onclick=\"quickchart('df-3c518b39-0ba8-4422-8182-c77fa7d18ab2')\"\n",
              "            title=\"Suggest charts\"\n",
              "            style=\"display:none;\">\n",
              "\n",
              "<svg xmlns=\"http://www.w3.org/2000/svg\" height=\"24px\"viewBox=\"0 0 24 24\"\n",
              "     width=\"24px\">\n",
              "    <g>\n",
              "        <path d=\"M19 3H5c-1.1 0-2 .9-2 2v14c0 1.1.9 2 2 2h14c1.1 0 2-.9 2-2V5c0-1.1-.9-2-2-2zM9 17H7v-7h2v7zm4 0h-2V7h2v10zm4 0h-2v-4h2v4z\"/>\n",
              "    </g>\n",
              "</svg>\n",
              "  </button>\n",
              "\n",
              "<style>\n",
              "  .colab-df-quickchart {\n",
              "      --bg-color: #E8F0FE;\n",
              "      --fill-color: #1967D2;\n",
              "      --hover-bg-color: #E2EBFA;\n",
              "      --hover-fill-color: #174EA6;\n",
              "      --disabled-fill-color: #AAA;\n",
              "      --disabled-bg-color: #DDD;\n",
              "  }\n",
              "\n",
              "  [theme=dark] .colab-df-quickchart {\n",
              "      --bg-color: #3B4455;\n",
              "      --fill-color: #D2E3FC;\n",
              "      --hover-bg-color: #434B5C;\n",
              "      --hover-fill-color: #FFFFFF;\n",
              "      --disabled-bg-color: #3B4455;\n",
              "      --disabled-fill-color: #666;\n",
              "  }\n",
              "\n",
              "  .colab-df-quickchart {\n",
              "    background-color: var(--bg-color);\n",
              "    border: none;\n",
              "    border-radius: 50%;\n",
              "    cursor: pointer;\n",
              "    display: none;\n",
              "    fill: var(--fill-color);\n",
              "    height: 32px;\n",
              "    padding: 0;\n",
              "    width: 32px;\n",
              "  }\n",
              "\n",
              "  .colab-df-quickchart:hover {\n",
              "    background-color: var(--hover-bg-color);\n",
              "    box-shadow: 0 1px 2px rgba(60, 64, 67, 0.3), 0 1px 3px 1px rgba(60, 64, 67, 0.15);\n",
              "    fill: var(--button-hover-fill-color);\n",
              "  }\n",
              "\n",
              "  .colab-df-quickchart-complete:disabled,\n",
              "  .colab-df-quickchart-complete:disabled:hover {\n",
              "    background-color: var(--disabled-bg-color);\n",
              "    fill: var(--disabled-fill-color);\n",
              "    box-shadow: none;\n",
              "  }\n",
              "\n",
              "  .colab-df-spinner {\n",
              "    border: 2px solid var(--fill-color);\n",
              "    border-color: transparent;\n",
              "    border-bottom-color: var(--fill-color);\n",
              "    animation:\n",
              "      spin 1s steps(1) infinite;\n",
              "  }\n",
              "\n",
              "  @keyframes spin {\n",
              "    0% {\n",
              "      border-color: transparent;\n",
              "      border-bottom-color: var(--fill-color);\n",
              "      border-left-color: var(--fill-color);\n",
              "    }\n",
              "    20% {\n",
              "      border-color: transparent;\n",
              "      border-left-color: var(--fill-color);\n",
              "      border-top-color: var(--fill-color);\n",
              "    }\n",
              "    30% {\n",
              "      border-color: transparent;\n",
              "      border-left-color: var(--fill-color);\n",
              "      border-top-color: var(--fill-color);\n",
              "      border-right-color: var(--fill-color);\n",
              "    }\n",
              "    40% {\n",
              "      border-color: transparent;\n",
              "      border-right-color: var(--fill-color);\n",
              "      border-top-color: var(--fill-color);\n",
              "    }\n",
              "    60% {\n",
              "      border-color: transparent;\n",
              "      border-right-color: var(--fill-color);\n",
              "    }\n",
              "    80% {\n",
              "      border-color: transparent;\n",
              "      border-right-color: var(--fill-color);\n",
              "      border-bottom-color: var(--fill-color);\n",
              "    }\n",
              "    90% {\n",
              "      border-color: transparent;\n",
              "      border-bottom-color: var(--fill-color);\n",
              "    }\n",
              "  }\n",
              "</style>\n",
              "\n",
              "  <script>\n",
              "    async function quickchart(key) {\n",
              "      const quickchartButtonEl =\n",
              "        document.querySelector('#' + key + ' button');\n",
              "      quickchartButtonEl.disabled = true;  // To prevent multiple clicks.\n",
              "      quickchartButtonEl.classList.add('colab-df-spinner');\n",
              "      try {\n",
              "        const charts = await google.colab.kernel.invokeFunction(\n",
              "            'suggestCharts', [key], {});\n",
              "      } catch (error) {\n",
              "        console.error('Error during call to suggestCharts:', error);\n",
              "      }\n",
              "      quickchartButtonEl.classList.remove('colab-df-spinner');\n",
              "      quickchartButtonEl.classList.add('colab-df-quickchart-complete');\n",
              "    }\n",
              "    (() => {\n",
              "      let quickchartButtonEl =\n",
              "        document.querySelector('#df-3c518b39-0ba8-4422-8182-c77fa7d18ab2 button');\n",
              "      quickchartButtonEl.style.display =\n",
              "        google.colab.kernel.accessAllowed ? 'block' : 'none';\n",
              "    })();\n",
              "  </script>\n",
              "</div>\n",
              "\n",
              "    </div>\n",
              "  </div>\n"
            ],
            "text/plain": [
              "                 Model  Accuracy  F1-Score\n",
              "0        Random Forest    0.9026    0.8453\n",
              "1              XGBoost    0.8910    0.8271\n",
              "7             CatBoost    0.8816    0.8099\n",
              "6                  KNN    0.8393    0.7481\n",
              "2                  SVM    0.8317    0.7209\n",
              "5             AdaBoost    0.8161    0.7071\n",
              "3  Logistic Regression    0.7983    0.6668\n",
              "4          Naive Bayes    0.4145    0.5214"
            ]
          },
          "execution_count": 72,
          "metadata": {},
          "output_type": "execute_result"
        }
      ],
      "source": [
        "import pandas as pd\n",
        "\n",
        "# Create a dictionary with model names as keys and their corresponding accuracy and F1-score as values\n",
        "model_metrics = {\n",
        "    'Model': ['Random Forest', 'XGBoost', 'SVM', 'Logistic Regression', 'Naive Bayes', 'AdaBoost', 'KNN', 'CatBoost'],\n",
        "    'Accuracy': [0.9026, 0.8910, 0.8317, 0.7983, 0.4145, 0.8161, 0.8393, 0.8816],\n",
        "    'F1-Score': [0.8453, 0.8271, 0.7209, 0.6668, 0.5214, 0.7071, 0.7481, 0.8099]\n",
        "}\n",
        "\n",
        "# Convert the dictionary into a pandas DataFrame\n",
        "df_metrics = pd.DataFrame(model_metrics)\n",
        "\n",
        "# Display the DataFrame\n",
        "df_metrics.sort_values(by = [\"Accuracy\"], ascending = False)\n"
      ]
    },
    {
      "cell_type": "code",
      "execution_count": null,
      "metadata": {
        "colab": {
          "base_uri": "https://localhost:8080/",
          "height": 1000
        },
        "id": "kjOC8uBew8qe",
        "outputId": "ecbba74a-a927-4636-9aa6-7ba050897aa0"
      },
      "outputs": [
        {
          "data": {
            "image/png": "[encoded data removed]",
            "text/plain": [
              "<Figure size 600x600 with 2 Axes>"
            ]
          },
          "metadata": {},
          "output_type": "display_data"
        },
        {
          "data": {
            "image/png": "[encoded data removed]",
            "text/plain": [
              "<Figure size 600x600 with 2 Axes>"
            ]
          },
          "metadata": {},
          "output_type": "display_data"
        },
        {
          "data": {
            "image/png": "[encoded data removed]",
            "text/plain": [
              "<Figure size 600x600 with 2 Axes>"
            ]
          },
          "metadata": {},
          "output_type": "display_data"
        },
        {
          "data": {
            "image/png": "[encoded data removed]",
            "text/plain": [
              "<Figure size 600x600 with 2 Axes>"
            ]
          },
          "metadata": {},
          "output_type": "display_data"
        },
        {
          "data": {
            "image/png": "[encoded data removed]",
            "text/plain": [
              "<Figure size 600x600 with 2 Axes>"
            ]
          },
          "metadata": {},
          "output_type": "display_data"
        },
        {
          "data": {
            "image/png": "[encoded data removed]",
            "text/plain": [
              "<Figure size 600x600 with 2 Axes>"
            ]
          },
          "metadata": {},
          "output_type": "display_data"
        },
        {
          "data": {
            "image/png": "[encoded data removed]",
            "text/plain": [
              "<Figure size 600x600 with 2 Axes>"
            ]
          },
          "metadata": {},
          "output_type": "display_data"
        },
        {
          "data": {
            "image/png": "[encoded data removed]",
            "text/plain": [
              "<Figure size 600x600 with 2 Axes>"
            ]
          },
          "metadata": {},
          "output_type": "display_data"
        }
      ],
      "source": [
        "from sklearn.metrics import confusion_matrix\n",
        "\n",
        "# Function to plot confusion matrix\n",
        "def plot_confusion_matrix(model, X_test, y_test, model_name):\n",
        "    predictions = model.predict(X_test)\n",
        "    cm = confusion_matrix(y_test, predictions)\n",
        "    plt.figure(figsize=(6, 6))\n",
        "    sns.heatmap(cm, annot=True, fmt=\"d\", cmap=\"Blues\", xticklabels=['Predicted 0', 'Predicted 1'], yticklabels=['True 0', 'True 1'])\n",
        "    plt.title(f\"{model_name} Confusion Matrix\")\n",
        "    plt.ylabel('True label')\n",
        "    plt.xlabel('Predicted label')\n",
        "    plt.show()\n",
        "\n",
        "# ------ Random Forest ---------\n",
        "plot_confusion_matrix(rf_model, X_test, y_test, \"Random Forest\")\n",
        "\n",
        "# ------ XGBoost ---------\n",
        "plot_confusion_matrix(xgb_model, X_test, y_test, \"XGBoost\")\n",
        "\n",
        "# ------- SVM -----------\n",
        "plot_confusion_matrix(svm_model, X_test, y_test, \"SVM\")\n",
        "\n",
        "# -------- Logistic Regression ------\n",
        "plot_confusion_matrix(logreg_model, X_test, y_test, \"Logistic Regression\")\n",
        "\n",
        "# -------- Naive Bayes ---------\n",
        "plot_confusion_matrix(nb_model, X_test, y_test, \"Naive Bayes\")\n",
        "\n",
        "# -------- AdaBoost ---------\n",
        "plot_confusion_matrix(adaboost_model, X_test, y_test, \"AdaBoost\")\n",
        "\n",
        "# -------- KNN ---------\n",
        "plot_confusion_matrix(knn_model, X_test, y_test, \"KNN\")\n",
        "\n",
        "# -------- CatBoost ---------\n",
        "plot_confusion_matrix(catboost_model, X_test, y_test, \"CatBoost\")\n"
      ]
    },
    {
      "cell_type": "code",
      "execution_count": null,
      "metadata": {
        "id": "2VLSbzArOSnl"
      },
      "outputs": [],
      "source": []
    },
    {
      "cell_type": "markdown",
      "metadata": {
        "id": "atcqqwAy2A8N"
      },
      "source": [
        "<font size = 6 color = \"yellow\">**Gride Search**"
      ]
    },
    {
      "cell_type": "markdown",
      "metadata": {
        "id": "S9t3URojOJhY"
      },
      "source": [
        "<font color = \"cyan\" size = 5>**Random Forest**"
      ]
    },
    {
      "cell_type": "code",
      "execution_count": null,
      "metadata": {
        "colab": {
          "base_uri": "https://localhost:8080/"
        },
        "id": "RyjcphJ22gwa",
        "outputId": "b210e576-449c-4e57-f7f9-74668bfec4fc"
      },
      "outputs": [
        {
          "name": "stdout",
          "output_type": "stream",
          "text": [
            "Best parameters for Random Forest:  {'criterion': 'entropy', 'max_depth': None, 'min_samples_split': 3, 'n_estimators': 200}\n",
            "Best score for Random Forest:  0.8375971236291301\n"
          ]
        }
      ],
      "source": [
        "from sklearn.model_selection import GridSearchCV\n",
        "from sklearn.metrics import accuracy_score\n",
        "\n",
        "# Define the parameter grid for Random Forest\n",
        "rf_param_grid = {\n",
        "    'n_estimators': [100, 200, 300],\n",
        "    'max_depth': [None, 10, 20],\n",
        "    'min_samples_split': [3, 7, 10],\n",
        "    \"criterion\" : [\"gini\", \"entropy\", \"log_loss\"]\n",
        "}\n",
        "\n",
        "# Initialize models\n",
        "rf_model = RandomForestClassifier(random_state=42)\n",
        "\n",
        "# Perform Grid Search for Random Forest\n",
        "rf_grid_search = GridSearchCV(estimator=rf_model, param_grid=rf_param_grid, cv=5, scoring='f1', n_jobs=-1)\n",
        "rf_grid_search.fit(X_train, y_train)\n",
        "\n",
        "# Get the best parameters and score for each model\n",
        "print(\"Best parameters for Random Forest: \", rf_grid_search.best_params_)\n",
        "print(\"Best score for Random Forest: \", rf_grid_search.best_score_)\n",
        "\n",
        "\n"
      ]
    },
    {
      "cell_type": "code",
      "execution_count": null,
      "metadata": {
        "colab": {
          "base_uri": "https://localhost:8080/"
        },
        "id": "Zo8_J3ObLLnD",
        "outputId": "0d10b747-be2c-436d-c4d0-f678978eadf4"
      },
      "outputs": [
        {
          "name": "stdout",
          "output_type": "stream",
          "text": [
            "Random Forest Test Accuracy: 0.9021\n",
            "Random Forest Test F1-Score: 0.8446\n"
          ]
        }
      ],
      "source": [
        "best_rf_model = rf_grid_search.best_estimator_\n",
        "# Predict on the test set\n",
        "rf_test_predictions = best_rf_model.predict(X_test)\n",
        "\n",
        "# Evaluate accuracy and F1-score\n",
        "rf_test_accuracy = accuracy_score(y_test, rf_test_predictions)\n",
        "rf_test_f1 = f1_score(y_test, rf_test_predictions)\n",
        "\n",
        "print(f\"Random Forest Test Accuracy: {rf_test_accuracy:.4f}\")\n",
        "print(f\"Random Forest Test F1-Score: {rf_test_f1:.4f}\")\n"
      ]
    },
    {
      "cell_type": "markdown",
      "metadata": {
        "id": "X5_o-aD_OV4d"
      },
      "source": [
        "<font color = \"cyan\" size = 5>**Xgboost**"
      ]
    },
    {
      "cell_type": "code",
      "execution_count": null,
      "metadata": {
        "colab": {
          "base_uri": "https://localhost:8080/"
        },
        "id": "95UqhE3NdZ-_",
        "outputId": "b3a3f21a-79aa-46eb-8019-ac7771ce5b56"
      },
      "outputs": [
        {
          "name": "stdout",
          "output_type": "stream",
          "text": [
            "Found existing installation: xgboost 2.1.3\n",
            "Uninstalling xgboost-2.1.3:\n",
            "  Successfully uninstalled xgboost-2.1.3\n",
            "Collecting xgboost==2.1.3\n",
            "  Downloading xgboost-2.1.3-py3-none-manylinux_2_28_x86_64.whl.metadata (2.1 kB)\n",
            "Requirement already satisfied: numpy in /usr/local/lib/python3.11/dist-packages (from xgboost==2.1.3) (1.26.4)\n",
            "Requirement already satisfied: nvidia-nccl-cu12 in /usr/local/lib/python3.11/dist-packages (from xgboost==2.1.3) (2.21.5)\n",
            "Requirement already satisfied: scipy in /usr/local/lib/python3.11/dist-packages (from xgboost==2.1.3) (1.13.1)\n",
            "Downloading xgboost-2.1.3-py3-none-manylinux_2_28_x86_64.whl (153.9 MB)\n",
            "\u001b[2K   \u001b[90m━━━━━━━━━━━━━━━━━━━━━━━━━━━━━━━━━━━━━━━━\u001b[0m \u001b[32m153.9/153.9 MB\u001b[0m \u001b[31m7.9 MB/s\u001b[0m eta \u001b[36m0:00:00\u001b[0m\n",
            "\u001b[?25hInstalling collected packages: xgboost\n",
            "Successfully installed xgboost-2.1.3\n"
          ]
        }
      ],
      "source": [
        "!pip uninstall xgboost -y\n",
        "!pip install xgboost==2.1.3"
      ]
    },
    {
      "cell_type": "code",
      "execution_count": null,
      "metadata": {
        "colab": {
          "base_uri": "https://localhost:8080/"
        },
        "id": "Nwo4rtxSecOs",
        "outputId": "f09cb3a0-a15e-4f8a-d742-c2b86a067571"
      },
      "outputs": [
        {
          "name": "stdout",
          "output_type": "stream",
          "text": [
            "Requirement already satisfied: scikit-learn in /usr/local/lib/python3.11/dist-packages (1.6.1)\n",
            "Requirement already satisfied: numpy>=1.19.5 in /usr/local/lib/python3.11/dist-packages (from scikit-learn) (1.26.4)\n",
            "Requirement already satisfied: scipy>=1.6.0 in /usr/local/lib/python3.11/dist-packages (from scikit-learn) (1.13.1)\n",
            "Requirement already satisfied: joblib>=1.2.0 in /usr/local/lib/python3.11/dist-packages (from scikit-learn) (1.4.2)\n",
            "Requirement already satisfied: threadpoolctl>=3.1.0 in /usr/local/lib/python3.11/dist-packages (from scikit-learn) (3.5.0)\n"
          ]
        }
      ],
      "source": [
        "!pip install scikit-learn --upgrade"
      ]
    },
    {
      "cell_type": "code",
      "execution_count": null,
      "metadata": {
        "colab": {
          "base_uri": "https://localhost:8080/",
          "height": 356
        },
        "collapsed": true,
        "id": "roy46v-DOFX_",
        "outputId": "f89015d7-a858-4037-a775-1d4c72fff8a5"
      },
      "outputs": [
        {
          "ename": "AttributeError",
          "evalue": "'super' object has no attribute '__sklearn_tags__'",
          "output_type": "error",
          "traceback": [
            "\u001b[0;31m---------------------------------------------------------------------------\u001b[0m",
            "\u001b[0;31mAttributeError\u001b[0m                            Traceback (most recent call last)",
            "\u001b[0;32m<ipython-input-80-32811ec8e051>\u001b[0m in \u001b[0;36m<cell line: 0>\u001b[0;34m()\u001b[0m\n\u001b[1;32m     14\u001b[0m \u001b[0;31m# Perform Grid Search for XGBoost\u001b[0m\u001b[0;34m\u001b[0m\u001b[0;34m\u001b[0m\u001b[0m\n\u001b[1;32m     15\u001b[0m \u001b[0mxgb_grid_search\u001b[0m \u001b[0;34m=\u001b[0m \u001b[0mGridSearchCV\u001b[0m\u001b[0;34m(\u001b[0m\u001b[0mestimator\u001b[0m\u001b[0;34m=\u001b[0m\u001b[0mxgb_model\u001b[0m\u001b[0;34m,\u001b[0m \u001b[0mparam_grid\u001b[0m\u001b[0;34m=\u001b[0m\u001b[0mxgb_param_grid\u001b[0m\u001b[0;34m,\u001b[0m \u001b[0mcv\u001b[0m\u001b[0;34m=\u001b[0m\u001b[0;36m5\u001b[0m\u001b[0;34m,\u001b[0m \u001b[0mscoring\u001b[0m\u001b[0;34m=\u001b[0m\u001b[0;34m'f1'\u001b[0m\u001b[0;34m,\u001b[0m \u001b[0mn_jobs\u001b[0m\u001b[0;34m=\u001b[0m\u001b[0;34m-\u001b[0m\u001b[0;36m1\u001b[0m\u001b[0;34m,\u001b[0m \u001b[0mverbose\u001b[0m\u001b[0;34m=\u001b[0m\u001b[0;36m1\u001b[0m\u001b[0;34m)\u001b[0m\u001b[0;34m\u001b[0m\u001b[0;34m\u001b[0m\u001b[0m\n\u001b[0;32m---> 16\u001b[0;31m \u001b[0mxgb_grid_search\u001b[0m\u001b[0;34m.\u001b[0m\u001b[0mfit\u001b[0m\u001b[0;34m(\u001b[0m\u001b[0mX_train\u001b[0m\u001b[0;34m,\u001b[0m \u001b[0my_train\u001b[0m\u001b[0;34m)\u001b[0m\u001b[0;34m\u001b[0m\u001b[0;34m\u001b[0m\u001b[0m\n\u001b[0m\u001b[1;32m     17\u001b[0m \u001b[0;34m\u001b[0m\u001b[0m\n\u001b[1;32m     18\u001b[0m \u001b[0;31m# Get the best parameters and score\u001b[0m\u001b[0;34m\u001b[0m\u001b[0;34m\u001b[0m\u001b[0m\n",
            "\u001b[0;32m/usr/local/lib/python3.11/dist-packages/sklearn/base.py\u001b[0m in \u001b[0;36mwrapper\u001b[0;34m(estimator, *args, **kwargs)\u001b[0m\n\u001b[1;32m   1387\u001b[0m                 )\n\u001b[1;32m   1388\u001b[0m             ):\n\u001b[0;32m-> 1389\u001b[0;31m                 \u001b[0;32mreturn\u001b[0m \u001b[0mfit_method\u001b[0m\u001b[0;34m(\u001b[0m\u001b[0mestimator\u001b[0m\u001b[0;34m,\u001b[0m \u001b[0;34m*\u001b[0m\u001b[0margs\u001b[0m\u001b[0;34m,\u001b[0m \u001b[0;34m**\u001b[0m\u001b[0mkwargs\u001b[0m\u001b[0;34m)\u001b[0m\u001b[0;34m\u001b[0m\u001b[0;34m\u001b[0m\u001b[0m\n\u001b[0m\u001b[1;32m   1390\u001b[0m \u001b[0;34m\u001b[0m\u001b[0m\n\u001b[1;32m   1391\u001b[0m         \u001b[0;32mreturn\u001b[0m \u001b[0mwrapper\u001b[0m\u001b[0;34m\u001b[0m\u001b[0;34m\u001b[0m\u001b[0m\n",
            "\u001b[0;32m/usr/local/lib/python3.11/dist-packages/sklearn/model_selection/_search.py\u001b[0m in \u001b[0;36mfit\u001b[0;34m(self, X, y, **params)\u001b[0m\n\u001b[1;32m    931\u001b[0m         \u001b[0mrouted_params\u001b[0m \u001b[0;34m=\u001b[0m \u001b[0mself\u001b[0m\u001b[0;34m.\u001b[0m\u001b[0m_get_routed_params_for_fit\u001b[0m\u001b[0;34m(\u001b[0m\u001b[0mparams\u001b[0m\u001b[0;34m)\u001b[0m\u001b[0;34m\u001b[0m\u001b[0;34m\u001b[0m\u001b[0m\n\u001b[1;32m    932\u001b[0m \u001b[0;34m\u001b[0m\u001b[0m\n\u001b[0;32m--> 933\u001b[0;31m         \u001b[0mcv_orig\u001b[0m \u001b[0;34m=\u001b[0m \u001b[0mcheck_cv\u001b[0m\u001b[0;34m(\u001b[0m\u001b[0mself\u001b[0m\u001b[0;34m.\u001b[0m\u001b[0mcv\u001b[0m\u001b[0;34m,\u001b[0m \u001b[0my\u001b[0m\u001b[0;34m,\u001b[0m \u001b[0mclassifier\u001b[0m\u001b[0;34m=\u001b[0m\u001b[0mis_classifier\u001b[0m\u001b[0;34m(\u001b[0m\u001b[0mestimator\u001b[0m\u001b[0;34m)\u001b[0m\u001b[0;34m)\u001b[0m\u001b[0;34m\u001b[0m\u001b[0;34m\u001b[0m\u001b[0m\n\u001b[0m\u001b[1;32m    934\u001b[0m         \u001b[0mn_splits\u001b[0m \u001b[0;34m=\u001b[0m \u001b[0mcv_orig\u001b[0m\u001b[0;34m.\u001b[0m\u001b[0mget_n_splits\u001b[0m\u001b[0;34m(\u001b[0m\u001b[0mX\u001b[0m\u001b[0;34m,\u001b[0m \u001b[0my\u001b[0m\u001b[0;34m,\u001b[0m \u001b[0;34m**\u001b[0m\u001b[0mrouted_params\u001b[0m\u001b[0;34m.\u001b[0m\u001b[0msplitter\u001b[0m\u001b[0;34m.\u001b[0m\u001b[0msplit\u001b[0m\u001b[0;34m)\u001b[0m\u001b[0;34m\u001b[0m\u001b[0;34m\u001b[0m\u001b[0m\n\u001b[1;32m    935\u001b[0m \u001b[0;34m\u001b[0m\u001b[0m\n",
            "\u001b[0;32m/usr/local/lib/python3.11/dist-packages/sklearn/base.py\u001b[0m in \u001b[0;36mis_classifier\u001b[0;34m(estimator)\u001b[0m\n\u001b[1;32m   1235\u001b[0m         \u001b[0;32mreturn\u001b[0m \u001b[0mgetattr\u001b[0m\u001b[0;34m(\u001b[0m\u001b[0mestimator\u001b[0m\u001b[0;34m,\u001b[0m \u001b[0;34m\"_estimator_type\"\u001b[0m\u001b[0;34m,\u001b[0m \u001b[0;32mNone\u001b[0m\u001b[0;34m)\u001b[0m \u001b[0;34m==\u001b[0m \u001b[0;34m\"classifier\"\u001b[0m\u001b[0;34m\u001b[0m\u001b[0;34m\u001b[0m\u001b[0m\n\u001b[1;32m   1236\u001b[0m \u001b[0;34m\u001b[0m\u001b[0m\n\u001b[0;32m-> 1237\u001b[0;31m     \u001b[0;32mreturn\u001b[0m \u001b[0mget_tags\u001b[0m\u001b[0;34m(\u001b[0m\u001b[0mestimator\u001b[0m\u001b[0;34m)\u001b[0m\u001b[0;34m.\u001b[0m\u001b[0mestimator_type\u001b[0m \u001b[0;34m==\u001b[0m \u001b[0;34m\"classifier\"\u001b[0m\u001b[0;34m\u001b[0m\u001b[0;34m\u001b[0m\u001b[0m\n\u001b[0m\u001b[1;32m   1238\u001b[0m \u001b[0;34m\u001b[0m\u001b[0m\n\u001b[1;32m   1239\u001b[0m \u001b[0;34m\u001b[0m\u001b[0m\n",
            "\u001b[0;32m/usr/local/lib/python3.11/dist-packages/sklearn/utils/_tags.py\u001b[0m in \u001b[0;36mget_tags\u001b[0;34m(estimator)\u001b[0m\n\u001b[1;32m    428\u001b[0m         \u001b[0;32mfor\u001b[0m \u001b[0mklass\u001b[0m \u001b[0;32min\u001b[0m \u001b[0mreversed\u001b[0m\u001b[0;34m(\u001b[0m\u001b[0mtype\u001b[0m\u001b[0;34m(\u001b[0m\u001b[0mestimator\u001b[0m\u001b[0;34m)\u001b[0m\u001b[0;34m.\u001b[0m\u001b[0mmro\u001b[0m\u001b[0;34m(\u001b[0m\u001b[0;34m)\u001b[0m\u001b[0;34m)\u001b[0m\u001b[0;34m:\u001b[0m\u001b[0;34m\u001b[0m\u001b[0;34m\u001b[0m\u001b[0m\n\u001b[1;32m    429\u001b[0m             \u001b[0;32mif\u001b[0m \u001b[0;34m\"__sklearn_tags__\"\u001b[0m \u001b[0;32min\u001b[0m \u001b[0mvars\u001b[0m\u001b[0;34m(\u001b[0m\u001b[0mklass\u001b[0m\u001b[0;34m)\u001b[0m\u001b[0;34m:\u001b[0m\u001b[0;34m\u001b[0m\u001b[0;34m\u001b[0m\u001b[0m\n\u001b[0;32m--> 430\u001b[0;31m                 \u001b[0msklearn_tags_provider\u001b[0m\u001b[0;34m[\u001b[0m\u001b[0mklass\u001b[0m\u001b[0;34m]\u001b[0m \u001b[0;34m=\u001b[0m \u001b[0mklass\u001b[0m\u001b[0;34m.\u001b[0m\u001b[0m__sklearn_tags__\u001b[0m\u001b[0;34m(\u001b[0m\u001b[0mestimator\u001b[0m\u001b[0;34m)\u001b[0m  \u001b[0;31m# type: ignore[attr-defined]\u001b[0m\u001b[0;34m\u001b[0m\u001b[0;34m\u001b[0m\u001b[0m\n\u001b[0m\u001b[1;32m    431\u001b[0m                 \u001b[0mclass_order\u001b[0m\u001b[0;34m.\u001b[0m\u001b[0mappend\u001b[0m\u001b[0;34m(\u001b[0m\u001b[0mklass\u001b[0m\u001b[0;34m)\u001b[0m\u001b[0;34m\u001b[0m\u001b[0;34m\u001b[0m\u001b[0m\n\u001b[1;32m    432\u001b[0m             \u001b[0;32melif\u001b[0m \u001b[0;34m\"_more_tags\"\u001b[0m \u001b[0;32min\u001b[0m \u001b[0mvars\u001b[0m\u001b[0;34m(\u001b[0m\u001b[0mklass\u001b[0m\u001b[0;34m)\u001b[0m\u001b[0;34m:\u001b[0m\u001b[0;34m\u001b[0m\u001b[0;34m\u001b[0m\u001b[0m\n",
            "\u001b[0;32m/usr/local/lib/python3.11/dist-packages/sklearn/base.py\u001b[0m in \u001b[0;36m__sklearn_tags__\u001b[0;34m(self)\u001b[0m\n\u001b[1;32m    538\u001b[0m \u001b[0;34m\u001b[0m\u001b[0m\n\u001b[1;32m    539\u001b[0m     \u001b[0;32mdef\u001b[0m \u001b[0m__sklearn_tags__\u001b[0m\u001b[0;34m(\u001b[0m\u001b[0mself\u001b[0m\u001b[0;34m)\u001b[0m\u001b[0;34m:\u001b[0m\u001b[0;34m\u001b[0m\u001b[0;34m\u001b[0m\u001b[0m\n\u001b[0;32m--> 540\u001b[0;31m         \u001b[0mtags\u001b[0m \u001b[0;34m=\u001b[0m \u001b[0msuper\u001b[0m\u001b[0;34m(\u001b[0m\u001b[0;34m)\u001b[0m\u001b[0;34m.\u001b[0m\u001b[0m__sklearn_tags__\u001b[0m\u001b[0;34m(\u001b[0m\u001b[0;34m)\u001b[0m\u001b[0;34m\u001b[0m\u001b[0;34m\u001b[0m\u001b[0m\n\u001b[0m\u001b[1;32m    541\u001b[0m         \u001b[0mtags\u001b[0m\u001b[0;34m.\u001b[0m\u001b[0mestimator_type\u001b[0m \u001b[0;34m=\u001b[0m \u001b[0;34m\"classifier\"\u001b[0m\u001b[0;34m\u001b[0m\u001b[0;34m\u001b[0m\u001b[0m\n\u001b[1;32m    542\u001b[0m         \u001b[0mtags\u001b[0m\u001b[0;34m.\u001b[0m\u001b[0mclassifier_tags\u001b[0m \u001b[0;34m=\u001b[0m \u001b[0mClassifierTags\u001b[0m\u001b[0;34m(\u001b[0m\u001b[0;34m)\u001b[0m\u001b[0;34m\u001b[0m\u001b[0;34m\u001b[0m\u001b[0m\n",
            "\u001b[0;31mAttributeError\u001b[0m: 'super' object has no attribute '__sklearn_tags__'"
          ]
        }
      ],
      "source": [
        "# Define the parameter grid for XGBoost\n",
        "xgb_param_grid = {\n",
        "    'n_estimators': [100, 200, 300],   # Number of trees\n",
        "    'max_depth': [3, 6, 10],          # Maximum depth of trees\n",
        "    'learning_rate': [0.01, 0.1, 0.2],# Learning rate\n",
        "    'subsample': [0.8, 1.0],          # Subsample ratio of the training instances\n",
        "    'colsample_bytree': [0.8, 1.0],   # Subsample ratio of columns for each tree\n",
        "    'gamma': [0, 0.1, 0.2],           # Minimum loss reduction for a split\n",
        "}\n",
        "\n",
        "# Initialize the XGBoost model\n",
        "xgb_model = XGBClassifier(use_label_encoder=False, eval_metric='logloss', random_state=42)\n",
        "\n",
        "# Perform Grid Search for XGBoost\n",
        "xgb_grid_search = GridSearchCV(estimator=xgb_model, param_grid=xgb_param_grid, cv=5, scoring='f1', n_jobs=-1, verbose=1)\n",
        "xgb_grid_search.fit(X_train, y_train)\n",
        "\n",
        "# Get the best parameters and score\n",
        "print(\"Best parameters for XGBoost: \", xgb_grid_search.best_params_)\n",
        "print(\"Best F1-score for XGBoost: \", xgb_grid_search.best_score_)\n",
        "\n"
      ]
    },
    {
      "cell_type": "code",
      "execution_count": null,
      "metadata": {
        "id": "j84XdbuxOix1"
      },
      "outputs": [],
      "source": [
        "# Extract the best model\n",
        "best_xgb_model = xgb_grid_search.best_estimator_\n",
        "\n",
        "# Predict and evaluate on the test set\n",
        "xgb_test_predictions = best_xgb_model.predict(X_test)\n",
        "xgb_test_accuracy = accuracy_score(y_test, xgb_test_predictions)\n",
        "xgb_test_f1 = f1_score(y_test, xgb_test_predictions)\n",
        "\n",
        "print(f\"XGBoost Test Accuracy: {xgb_test_accuracy:.4f}\")\n",
        "print(f\"XGBoost Test F1-Score: {xgb_test_f1:.4f}\")"
      ]
    },
    {
      "cell_type": "markdown",
      "metadata": {
        "id": "6KSNoAWU1r1Y"
      },
      "source": [
        "<font size = 6 color = \"yellow\">**Cross-validation**"
      ]
    },
    {
      "cell_type": "markdown",
      "metadata": {
        "id": "_pa_RY0S2SLJ"
      },
      "source": [
        "<font size = 6 color = \"yellow\">**Ensemble Method**"
      ]
    },
    {
      "cell_type": "code",
      "execution_count": null,
      "metadata": {
        "colab": {
          "base_uri": "https://localhost:8080/"
        },
        "id": "lFdLJOcug049",
        "outputId": "f9cce256-b18f-4596-955c-6659a4878939"
      },
      "outputs": [
        {
          "name": "stdout",
          "output_type": "stream",
          "text": [
            "Voting Classifier Accuracy: 0.8905934227448098\n"
          ]
        }
      ],
      "source": [
        "from sklearn.ensemble import VotingClassifier\n",
        "from sklearn.metrics import accuracy_score\n",
        "\n",
        "# Create Voting Classifier (soft voting recommended for probabilistic models)\n",
        "voting_clf = VotingClassifier(\n",
        "    estimators=[('rf', rf_model), ('catboost', catboost_model), ('svm', SVC(probability=True, random_state=42))], # Initialize SVC with probability=True\n",
        "    voting='soft'\n",
        ")\n",
        "\n",
        "# Fit the ensemble model\n",
        "voting_clf.fit(X_train, y_train)\n",
        "\n",
        "# Predict and evaluate\n",
        "y_pred = voting_clf.predict(X_test)\n",
        "print(\"Voting Classifier Accuracy:\", accuracy_score(y_test, y_pred))"
      ]
    },
    {
      "cell_type": "code",
      "execution_count": null,
      "metadata": {
        "colab": {
          "base_uri": "https://localhost:8080/"
        },
        "id": "oLGCtRlFkA6W",
        "outputId": "1ca7edf2-177e-4b08-efc6-e27cb7d9b51a"
      },
      "outputs": [
        {
          "data": {
            "text/plain": [
              "['rf_model.pkl']"
            ]
          },
          "execution_count": 103,
          "metadata": {},
          "output_type": "execute_result"
        }
      ],
      "source": [
        "import joblib\n",
        "joblib.dump(rf_model, 'rf_model.pkl')"
      ]
    },
    {
      "cell_type": "code",
      "execution_count": null,
      "metadata": {
        "colab": {
          "base_uri": "https://localhost:8080/"
        },
        "id": "g1NgeWmrkVl8",
        "outputId": "4f695edf-ae80-49ee-ed46-a39af8f3cb8b"
      },
      "outputs": [
        {
          "name": "stdout",
          "output_type": "stream",
          "text": [
            "Model size: 107.48 MB\n"
          ]
        }
      ],
      "source": [
        "import os\n",
        "file_size = os.path.getsize('rf_model.pkl')\n",
        "print(f\"Model size: {file_size / (1024 * 1024):.2f} MB\")"
      ]
    },
    {
      "cell_type": "markdown",
      "metadata": {
        "id": "L9_0radK2WSq"
      },
      "source": [
        "<font size = 6 color = \"yellow\">**Interpretation**"
      ]
    },
    {
      "cell_type": "code",
      "execution_count": null,
      "metadata": {
        "colab": {
          "base_uri": "https://localhost:8080/",
          "height": 802
        },
        "id": "N98HAqSjlJHS",
        "outputId": "ecfddaaa-586d-40e6-99bd-a4adb206d454"
      },
      "outputs": [
        {
          "data": {
            "application/vnd.google.colaboratory.intrinsic+json": {
              "summary": "{\n  \"name\": \"rf_importance_df\",\n  \"rows\": 24,\n  \"fields\": [\n    {\n      \"column\": \"Feature\",\n      \"properties\": {\n        \"dtype\": \"string\",\n        \"num_unique_values\": 24,\n        \"samples\": [\n          \"market_segment_Online\",\n          \"market_segment_Corporate\",\n          \"lead time\"\n        ],\n        \"semantic_type\": \"\",\n        \"description\": \"\"\n      }\n    },\n    {\n      \"column\": \"Importance\",\n      \"properties\": {\n        \"dtype\": \"number\",\n        \"std\": 0.06859030272374506,\n        \"min\": 0.00021770816412300747,\n        \"max\": 0.3078552548773716,\n        \"num_unique_values\": 24,\n        \"samples\": [\n          0.02611080737326884,\n          0.005449513427289904,\n          0.3078552548773716\n        ],\n        \"semantic_type\": \"\",\n        \"description\": \"\"\n      }\n    }\n  ]\n}",
              "type": "dataframe",
              "variable_name": "rf_importance_df"
            },
            "text/html": [
              "\n",
              "  <div id=\"df-5fdb5d43-cacc-47c1-a677-04b0d3397c7e\" class=\"colab-df-container\">\n",
              "    <div>\n",
              "<style scoped>\n",
              "    .dataframe tbody tr th:only-of-type {\n",
              "        vertical-align: middle;\n",
              "    }\n",
              "\n",
              "    .dataframe tbody tr th {\n",
              "        vertical-align: top;\n",
              "    }\n",
              "\n",
              "    .dataframe thead th {\n",
              "        text-align: right;\n",
              "    }\n",
              "</style>\n",
              "<table border=\"1\" class=\"dataframe\">\n",
              "  <thead>\n",
              "    <tr style=\"text-align: right;\">\n",
              "      <th></th>\n",
              "      <th>Feature</th>\n",
              "      <th>Importance</th>\n",
              "    </tr>\n",
              "  </thead>\n",
              "  <tbody>\n",
              "    <tr>\n",
              "      <th>7</th>\n",
              "      <td>lead time</td>\n",
              "      <td>0.307855</td>\n",
              "    </tr>\n",
              "    <tr>\n",
              "      <th>11</th>\n",
              "      <td>average price</td>\n",
              "      <td>0.151547</td>\n",
              "    </tr>\n",
              "    <tr>\n",
              "      <th>12</th>\n",
              "      <td>special requests</td>\n",
              "      <td>0.103191</td>\n",
              "    </tr>\n",
              "    <tr>\n",
              "      <th>15</th>\n",
              "      <td>day</td>\n",
              "      <td>0.090059</td>\n",
              "    </tr>\n",
              "    <tr>\n",
              "      <th>14</th>\n",
              "      <td>month</td>\n",
              "      <td>0.080381</td>\n",
              "    </tr>\n",
              "    <tr>\n",
              "      <th>16</th>\n",
              "      <td>total_stay_night</td>\n",
              "      <td>0.043052</td>\n",
              "    </tr>\n",
              "    <tr>\n",
              "      <th>3</th>\n",
              "      <td>number of week nights</td>\n",
              "      <td>0.036685</td>\n",
              "    </tr>\n",
              "    <tr>\n",
              "      <th>2</th>\n",
              "      <td>number of weekend nights</td>\n",
              "      <td>0.028580</td>\n",
              "    </tr>\n",
              "    <tr>\n",
              "      <th>23</th>\n",
              "      <td>market_segment_Online</td>\n",
              "      <td>0.026111</td>\n",
              "    </tr>\n",
              "    <tr>\n",
              "      <th>13</th>\n",
              "      <td>year</td>\n",
              "      <td>0.024070</td>\n",
              "    </tr>\n",
              "    <tr>\n",
              "      <th>4</th>\n",
              "      <td>type of meal</td>\n",
              "      <td>0.020842</td>\n",
              "    </tr>\n",
              "    <tr>\n",
              "      <th>22</th>\n",
              "      <td>market_segment_Offline</td>\n",
              "      <td>0.018926</td>\n",
              "    </tr>\n",
              "    <tr>\n",
              "      <th>17</th>\n",
              "      <td>total_visiors</td>\n",
              "      <td>0.017380</td>\n",
              "    </tr>\n",
              "    <tr>\n",
              "      <th>6</th>\n",
              "      <td>room type</td>\n",
              "      <td>0.015596</td>\n",
              "    </tr>\n",
              "    <tr>\n",
              "      <th>0</th>\n",
              "      <td>number of adults</td>\n",
              "      <td>0.014052</td>\n",
              "    </tr>\n",
              "    <tr>\n",
              "      <th>5</th>\n",
              "      <td>car parking space</td>\n",
              "      <td>0.006070</td>\n",
              "    </tr>\n",
              "    <tr>\n",
              "      <th>21</th>\n",
              "      <td>market_segment_Corporate</td>\n",
              "      <td>0.005450</td>\n",
              "    </tr>\n",
              "    <tr>\n",
              "      <th>1</th>\n",
              "      <td>number of children</td>\n",
              "      <td>0.005206</td>\n",
              "    </tr>\n",
              "    <tr>\n",
              "      <th>18</th>\n",
              "      <td>percent_canceled</td>\n",
              "      <td>0.001639</td>\n",
              "    </tr>\n",
              "    <tr>\n",
              "      <th>8</th>\n",
              "      <td>repeated</td>\n",
              "      <td>0.001243</td>\n",
              "    </tr>\n",
              "    <tr>\n",
              "      <th>10</th>\n",
              "      <td>P-not-C</td>\n",
              "      <td>0.000900</td>\n",
              "    </tr>\n",
              "    <tr>\n",
              "      <th>20</th>\n",
              "      <td>market_segment_Complementary</td>\n",
              "      <td>0.000563</td>\n",
              "    </tr>\n",
              "    <tr>\n",
              "      <th>19</th>\n",
              "      <td>market_segment_Aviation</td>\n",
              "      <td>0.000384</td>\n",
              "    </tr>\n",
              "    <tr>\n",
              "      <th>9</th>\n",
              "      <td>P-C</td>\n",
              "      <td>0.000218</td>\n",
              "    </tr>\n",
              "  </tbody>\n",
              "</table>\n",
              "</div>\n",
              "    <div class=\"colab-df-buttons\">\n",
              "\n",
              "  <div class=\"colab-df-container\">\n",
              "    <button class=\"colab-df-convert\" onclick=\"convertToInteractive('df-5fdb5d43-cacc-47c1-a677-04b0d3397c7e')\"\n",
              "            title=\"Convert this dataframe to an interactive table.\"\n",
              "            style=\"display:none;\">\n",
              "\n",
              "  <svg xmlns=\"http://www.w3.org/2000/svg\" height=\"24px\" viewBox=\"0 -960 960 960\">\n",
              "    <path d=\"M120-120v-720h720v720H120Zm60-500h600v-160H180v160Zm220 220h160v-160H400v160Zm0 220h160v-160H400v160ZM180-400h160v-160H180v160Zm440 0h160v-160H620v160ZM180-180h160v-160H180v160Zm440 0h160v-160H620v160Z\"/>\n",
              "  </svg>\n",
              "    </button>\n",
              "\n",
              "  <style>\n",
              "    .colab-df-container {\n",
              "      display:flex;\n",
              "      gap: 12px;\n",
              "    }\n",
              "\n",
              "    .colab-df-convert {\n",
              "      background-color: #E8F0FE;\n",
              "      border: none;\n",
              "      border-radius: 50%;\n",
              "      cursor: pointer;\n",
              "      display: none;\n",
              "      fill: #1967D2;\n",
              "      height: 32px;\n",
              "      padding: 0 0 0 0;\n",
              "      width: 32px;\n",
              "    }\n",
              "\n",
              "    .colab-df-convert:hover {\n",
              "      background-color: #E2EBFA;\n",
              "      box-shadow: 0px 1px 2px rgba(60, 64, 67, 0.3), 0px 1px 3px 1px rgba(60, 64, 67, 0.15);\n",
              "      fill: #174EA6;\n",
              "    }\n",
              "\n",
              "    .colab-df-buttons div {\n",
              "      margin-bottom: 4px;\n",
              "    }\n",
              "\n",
              "    [theme=dark] .colab-df-convert {\n",
              "      background-color: #3B4455;\n",
              "      fill: #D2E3FC;\n",
              "    }\n",
              "\n",
              "    [theme=dark] .colab-df-convert:hover {\n",
              "      background-color: #434B5C;\n",
              "      box-shadow: 0px 1px 3px 1px rgba(0, 0, 0, 0.15);\n",
              "      filter: drop-shadow(0px 1px 2px rgba(0, 0, 0, 0.3));\n",
              "      fill: #FFFFFF;\n",
              "    }\n",
              "  </style>\n",
              "\n",
              "    <script>\n",
              "      const buttonEl =\n",
              "        document.querySelector('#df-5fdb5d43-cacc-47c1-a677-04b0d3397c7e button.colab-df-convert');\n",
              "      buttonEl.style.display =\n",
              "        google.colab.kernel.accessAllowed ? 'block' : 'none';\n",
              "\n",
              "      async function convertToInteractive(key) {\n",
              "        const element = document.querySelector('#df-5fdb5d43-cacc-47c1-a677-04b0d3397c7e');\n",
              "        const dataTable =\n",
              "          await google.colab.kernel.invokeFunction('convertToInteractive',\n",
              "                                                    [key], {});\n",
              "        if (!dataTable) return;\n",
              "\n",
              "        const docLinkHtml = 'Like what you see? Visit the ' +\n",
              "          '<a target=\"_blank\" href=https://colab.research.google.com/notebooks/data_table.ipynb>data table notebook</a>'\n",
              "          + ' to learn more about interactive tables.';\n",
              "        element.innerHTML = '';\n",
              "        dataTable['output_type'] = 'display_data';\n",
              "        await google.colab.output.renderOutput(dataTable, element);\n",
              "        const docLink = document.createElement('div');\n",
              "        docLink.innerHTML = docLinkHtml;\n",
              "        element.appendChild(docLink);\n",
              "      }\n",
              "    </script>\n",
              "  </div>\n",
              "\n",
              "\n",
              "<div id=\"df-b35b7c3c-4028-4141-beb7-5bc0ca78f420\">\n",
              "  <button class=\"colab-df-quickchart\" onclick=\"quickchart('df-b35b7c3c-4028-4141-beb7-5bc0ca78f420')\"\n",
              "            title=\"Suggest charts\"\n",
              "            style=\"display:none;\">\n",
              "\n",
              "<svg xmlns=\"http://www.w3.org/2000/svg\" height=\"24px\"viewBox=\"0 0 24 24\"\n",
              "     width=\"24px\">\n",
              "    <g>\n",
              "        <path d=\"M19 3H5c-1.1 0-2 .9-2 2v14c0 1.1.9 2 2 2h14c1.1 0 2-.9 2-2V5c0-1.1-.9-2-2-2zM9 17H7v-7h2v7zm4 0h-2V7h2v10zm4 0h-2v-4h2v4z\"/>\n",
              "    </g>\n",
              "</svg>\n",
              "  </button>\n",
              "\n",
              "<style>\n",
              "  .colab-df-quickchart {\n",
              "      --bg-color: #E8F0FE;\n",
              "      --fill-color: #1967D2;\n",
              "      --hover-bg-color: #E2EBFA;\n",
              "      --hover-fill-color: #174EA6;\n",
              "      --disabled-fill-color: #AAA;\n",
              "      --disabled-bg-color: #DDD;\n",
              "  }\n",
              "\n",
              "  [theme=dark] .colab-df-quickchart {\n",
              "      --bg-color: #3B4455;\n",
              "      --fill-color: #D2E3FC;\n",
              "      --hover-bg-color: #434B5C;\n",
              "      --hover-fill-color: #FFFFFF;\n",
              "      --disabled-bg-color: #3B4455;\n",
              "      --disabled-fill-color: #666;\n",
              "  }\n",
              "\n",
              "  .colab-df-quickchart {\n",
              "    background-color: var(--bg-color);\n",
              "    border: none;\n",
              "    border-radius: 50%;\n",
              "    cursor: pointer;\n",
              "    display: none;\n",
              "    fill: var(--fill-color);\n",
              "    height: 32px;\n",
              "    padding: 0;\n",
              "    width: 32px;\n",
              "  }\n",
              "\n",
              "  .colab-df-quickchart:hover {\n",
              "    background-color: var(--hover-bg-color);\n",
              "    box-shadow: 0 1px 2px rgba(60, 64, 67, 0.3), 0 1px 3px 1px rgba(60, 64, 67, 0.15);\n",
              "    fill: var(--button-hover-fill-color);\n",
              "  }\n",
              "\n",
              "  .colab-df-quickchart-complete:disabled,\n",
              "  .colab-df-quickchart-complete:disabled:hover {\n",
              "    background-color: var(--disabled-bg-color);\n",
              "    fill: var(--disabled-fill-color);\n",
              "    box-shadow: none;\n",
              "  }\n",
              "\n",
              "  .colab-df-spinner {\n",
              "    border: 2px solid var(--fill-color);\n",
              "    border-color: transparent;\n",
              "    border-bottom-color: var(--fill-color);\n",
              "    animation:\n",
              "      spin 1s steps(1) infinite;\n",
              "  }\n",
              "\n",
              "  @keyframes spin {\n",
              "    0% {\n",
              "      border-color: transparent;\n",
              "      border-bottom-color: var(--fill-color);\n",
              "      border-left-color: var(--fill-color);\n",
              "    }\n",
              "    20% {\n",
              "      border-color: transparent;\n",
              "      border-left-color: var(--fill-color);\n",
              "      border-top-color: var(--fill-color);\n",
              "    }\n",
              "    30% {\n",
              "      border-color: transparent;\n",
              "      border-left-color: var(--fill-color);\n",
              "      border-top-color: var(--fill-color);\n",
              "      border-right-color: var(--fill-color);\n",
              "    }\n",
              "    40% {\n",
              "      border-color: transparent;\n",
              "      border-right-color: var(--fill-color);\n",
              "      border-top-color: var(--fill-color);\n",
              "    }\n",
              "    60% {\n",
              "      border-color: transparent;\n",
              "      border-right-color: var(--fill-color);\n",
              "    }\n",
              "    80% {\n",
              "      border-color: transparent;\n",
              "      border-right-color: var(--fill-color);\n",
              "      border-bottom-color: var(--fill-color);\n",
              "    }\n",
              "    90% {\n",
              "      border-color: transparent;\n",
              "      border-bottom-color: var(--fill-color);\n",
              "    }\n",
              "  }\n",
              "</style>\n",
              "\n",
              "  <script>\n",
              "    async function quickchart(key) {\n",
              "      const quickchartButtonEl =\n",
              "        document.querySelector('#' + key + ' button');\n",
              "      quickchartButtonEl.disabled = true;  // To prevent multiple clicks.\n",
              "      quickchartButtonEl.classList.add('colab-df-spinner');\n",
              "      try {\n",
              "        const charts = await google.colab.kernel.invokeFunction(\n",
              "            'suggestCharts', [key], {});\n",
              "      } catch (error) {\n",
              "        console.error('Error during call to suggestCharts:', error);\n",
              "      }\n",
              "      quickchartButtonEl.classList.remove('colab-df-spinner');\n",
              "      quickchartButtonEl.classList.add('colab-df-quickchart-complete');\n",
              "    }\n",
              "    (() => {\n",
              "      let quickchartButtonEl =\n",
              "        document.querySelector('#df-b35b7c3c-4028-4141-beb7-5bc0ca78f420 button');\n",
              "      quickchartButtonEl.style.display =\n",
              "        google.colab.kernel.accessAllowed ? 'block' : 'none';\n",
              "    })();\n",
              "  </script>\n",
              "</div>\n",
              "\n",
              "  <div id=\"id_4fc5b4c4-573d-49e6-90ff-38b248bb31a1\">\n",
              "    <style>\n",
              "      .colab-df-generate {\n",
              "        background-color: #E8F0FE;\n",
              "        border: none;\n",
              "        border-radius: 50%;\n",
              "        cursor: pointer;\n",
              "        display: none;\n",
              "        fill: #1967D2;\n",
              "        height: 32px;\n",
              "        padding: 0 0 0 0;\n",
              "        width: 32px;\n",
              "      }\n",
              "\n",
              "      .colab-df-generate:hover {\n",
              "        background-color: #E2EBFA;\n",
              "        box-shadow: 0px 1px 2px rgba(60, 64, 67, 0.3), 0px 1px 3px 1px rgba(60, 64, 67, 0.15);\n",
              "        fill: #174EA6;\n",
              "      }\n",
              "\n",
              "      [theme=dark] .colab-df-generate {\n",
              "        background-color: #3B4455;\n",
              "        fill: #D2E3FC;\n",
              "      }\n",
              "\n",
              "      [theme=dark] .colab-df-generate:hover {\n",
              "        background-color: #434B5C;\n",
              "        box-shadow: 0px 1px 3px 1px rgba(0, 0, 0, 0.15);\n",
              "        filter: drop-shadow(0px 1px 2px rgba(0, 0, 0, 0.3));\n",
              "        fill: #FFFFFF;\n",
              "      }\n",
              "    </style>\n",
              "    <button class=\"colab-df-generate\" onclick=\"generateWithVariable('rf_importance_df')\"\n",
              "            title=\"Generate code using this dataframe.\"\n",
              "            style=\"display:none;\">\n",
              "\n",
              "  <svg xmlns=\"http://www.w3.org/2000/svg\" height=\"24px\"viewBox=\"0 0 24 24\"\n",
              "       width=\"24px\">\n",
              "    <path d=\"M7,19H8.4L18.45,9,17,7.55,7,17.6ZM5,21V16.75L18.45,3.32a2,2,0,0,1,2.83,0l1.4,1.43a1.91,1.91,0,0,1,.58,1.4,1.91,1.91,0,0,1-.58,1.4L9.25,21ZM18.45,9,17,7.55Zm-12,3A5.31,5.31,0,0,0,4.9,8.1,5.31,5.31,0,0,0,1,6.5,5.31,5.31,0,0,0,4.9,4.9,5.31,5.31,0,0,0,6.5,1,5.31,5.31,0,0,0,8.1,4.9,5.31,5.31,0,0,0,12,6.5,5.46,5.46,0,0,0,6.5,12Z\"/>\n",
              "  </svg>\n",
              "    </button>\n",
              "    <script>\n",
              "      (() => {\n",
              "      const buttonEl =\n",
              "        document.querySelector('#id_4fc5b4c4-573d-49e6-90ff-38b248bb31a1 button.colab-df-generate');\n",
              "      buttonEl.style.display =\n",
              "        google.colab.kernel.accessAllowed ? 'block' : 'none';\n",
              "\n",
              "      buttonEl.onclick = () => {\n",
              "        google.colab.notebook.generateWithVariable('rf_importance_df');\n",
              "      }\n",
              "      })();\n",
              "    </script>\n",
              "  </div>\n",
              "\n",
              "    </div>\n",
              "  </div>\n"
            ],
            "text/plain": [
              "                         Feature  Importance\n",
              "7                      lead time    0.307855\n",
              "11                 average price    0.151547\n",
              "12              special requests    0.103191\n",
              "15                           day    0.090059\n",
              "14                         month    0.080381\n",
              "16              total_stay_night    0.043052\n",
              "3          number of week nights    0.036685\n",
              "2       number of weekend nights    0.028580\n",
              "23         market_segment_Online    0.026111\n",
              "13                          year    0.024070\n",
              "4                   type of meal    0.020842\n",
              "22        market_segment_Offline    0.018926\n",
              "17                 total_visiors    0.017380\n",
              "6                      room type    0.015596\n",
              "0               number of adults    0.014052\n",
              "5              car parking space    0.006070\n",
              "21      market_segment_Corporate    0.005450\n",
              "1             number of children    0.005206\n",
              "18              percent_canceled    0.001639\n",
              "8                       repeated    0.001243\n",
              "10                       P-not-C    0.000900\n",
              "20  market_segment_Complementary    0.000563\n",
              "19       market_segment_Aviation    0.000384\n",
              "9                            P-C    0.000218"
            ]
          },
          "execution_count": 109,
          "metadata": {},
          "output_type": "execute_result"
        }
      ],
      "source": [
        "rf_importances = rf_model.feature_importances_\n",
        "\n",
        "# Create a DataFrame for Random Forest feature importances\n",
        "rf_importance_df = pd.DataFrame({'Feature': x.columns, 'Importance': rf_importances})\n",
        "rf_importance_df = rf_importance_df.sort_values(by='Importance', ascending=False)\n",
        "rf_importance_df"
      ]
    },
    {
      "cell_type": "markdown",
      "metadata": {},
      "source": [
        "<font size = 6 color = \"yellow\"> Save Model"
      ]
    },
    {
      "cell_type": "code",
      "execution_count": null,
      "metadata": {
        "id": "Osuby_sbm2NO"
      },
      "outputs": [],
      "source": [
        "import joblib\n",
        "joblib.dump(rf_model, 'rf_model_hotel.pkl')\n"
      ]
    }
  ],
  "metadata": {
    "accelerator": "GPU",
    "colab": {
      "gpuType": "T4",
      "provenance": [],
      "toc_visible": true
    },
    "kernelspec": {
      "display_name": "hotel_env",
      "language": "python",
      "name": "python3"
    },
    "language_info": {
      "name": "python",
      "version": "3.11.5"
    },
    "widgets": {
      "application/vnd.jupyter.widget-state+json": {
        "1d7edfc97e2947418316477c30ffd627": {
          "model_module": "@jupyter-widgets/controls",
          "model_module_version": "1.5.0",
          "model_name": "DescriptionStyleModel",
          "state": {
            "_model_module": "@jupyter-widgets/controls",
            "_model_module_version": "1.5.0",
            "_model_name": "DescriptionStyleModel",
            "_view_count": null,
            "_view_module": "@jupyter-widgets/base",
            "_view_module_version": "1.2.0",
            "_view_name": "StyleView",
            "description_width": "initial"
          }
        },
        "2686b4c11bda47c783a2c521fedc8c29": {
          "model_module": "@jupyter-widgets/output",
          "model_module_version": "1.0.0",
          "model_name": "OutputModel",
          "state": {
            "_dom_classes": [],
            "_model_module": "@jupyter-widgets/output",
            "_model_module_version": "1.0.0",
            "_model_name": "OutputModel",
            "_view_count": null,
            "_view_module": "@jupyter-widgets/output",
            "_view_module_version": "1.0.0",
            "_view_name": "OutputView",
            "layout": "IPY_MODEL_54ac97cc31fa430e91caf1f27ba56bad",
            "msg_id": "",
            "outputs": [
              {
                "data": {
                  "image/png": "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\n",
                  "text/plain": "<Figure size 1000x600 with 1 Axes>"
                },
                "metadata": {},
                "output_type": "display_data"
              }
            ]
          }
        },
        "52ead0e939a64e589131acfcf1dd7ea0": {
          "model_module": "@jupyter-widgets/base",
          "model_module_version": "1.2.0",
          "model_name": "LayoutModel",
          "state": {
            "_model_module": "@jupyter-widgets/base",
            "_model_module_version": "1.2.0",
            "_model_name": "LayoutModel",
            "_view_count": null,
            "_view_module": "@jupyter-widgets/base",
            "_view_module_version": "1.2.0",
            "_view_name": "LayoutView",
            "align_content": null,
            "align_items": null,
            "align_self": null,
            "border": null,
            "bottom": null,
            "display": null,
            "flex": null,
            "flex_flow": null,
            "grid_area": null,
            "grid_auto_columns": null,
            "grid_auto_flow": null,
            "grid_auto_rows": null,
            "grid_column": null,
            "grid_gap": null,
            "grid_row": null,
            "grid_template_areas": null,
            "grid_template_columns": null,
            "grid_template_rows": null,
            "height": null,
            "justify_content": null,
            "justify_items": null,
            "left": null,
            "margin": null,
            "max_height": null,
            "max_width": null,
            "min_height": null,
            "min_width": null,
            "object_fit": null,
            "object_position": null,
            "order": null,
            "overflow": null,
            "overflow_x": null,
            "overflow_y": null,
            "padding": null,
            "right": null,
            "top": null,
            "visibility": null,
            "width": null
          }
        },
        "54ac97cc31fa430e91caf1f27ba56bad": {
          "model_module": "@jupyter-widgets/base",
          "model_module_version": "1.2.0",
          "model_name": "LayoutModel",
          "state": {
            "_model_module": "@jupyter-widgets/base",
            "_model_module_version": "1.2.0",
            "_model_name": "LayoutModel",
            "_view_count": null,
            "_view_module": "@jupyter-widgets/base",
            "_view_module_version": "1.2.0",
            "_view_name": "LayoutView",
            "align_content": null,
            "align_items": null,
            "align_self": null,
            "border": null,
            "bottom": null,
            "display": null,
            "flex": null,
            "flex_flow": null,
            "grid_area": null,
            "grid_auto_columns": null,
            "grid_auto_flow": null,
            "grid_auto_rows": null,
            "grid_column": null,
            "grid_gap": null,
            "grid_row": null,
            "grid_template_areas": null,
            "grid_template_columns": null,
            "grid_template_rows": null,
            "height": null,
            "justify_content": null,
            "justify_items": null,
            "left": null,
            "margin": null,
            "max_height": null,
            "max_width": null,
            "min_height": null,
            "min_width": null,
            "object_fit": null,
            "object_position": null,
            "order": null,
            "overflow": null,
            "overflow_x": null,
            "overflow_y": null,
            "padding": null,
            "right": null,
            "top": null,
            "visibility": null,
            "width": null
          }
        },
        "64f2b4270a9c4354aa221b5bef8d3e38": {
          "model_module": "@jupyter-widgets/controls",
          "model_module_version": "1.5.0",
          "model_name": "DropdownModel",
          "state": {
            "_dom_classes": [],
            "_model_module": "@jupyter-widgets/controls",
            "_model_module_version": "1.5.0",
            "_model_name": "DropdownModel",
            "_options_labels": [
              "2018",
              "2017",
              "2016",
              "2015"
            ],
            "_view_count": null,
            "_view_module": "@jupyter-widgets/controls",
            "_view_module_version": "1.5.0",
            "_view_name": "DropdownView",
            "description": "Year:",
            "description_tooltip": null,
            "disabled": false,
            "index": 1,
            "layout": "IPY_MODEL_8f98a4f95ba249799f707a8365e2aa90",
            "style": "IPY_MODEL_1d7edfc97e2947418316477c30ffd627"
          }
        },
        "74b7baa831324448baec1834c2639360": {
          "model_module": "@jupyter-widgets/controls",
          "model_module_version": "1.5.0",
          "model_name": "DescriptionStyleModel",
          "state": {
            "_model_module": "@jupyter-widgets/controls",
            "_model_module_version": "1.5.0",
            "_model_name": "DescriptionStyleModel",
            "_view_count": null,
            "_view_module": "@jupyter-widgets/base",
            "_view_module_version": "1.2.0",
            "_view_name": "StyleView",
            "description_width": "initial"
          }
        },
        "762d7314f45c43618662f2a944071fb7": {
          "model_module": "@jupyter-widgets/controls",
          "model_module_version": "1.5.0",
          "model_name": "DropdownModel",
          "state": {
            "_dom_classes": [],
            "_model_module": "@jupyter-widgets/controls",
            "_model_module_version": "1.5.0",
            "_model_name": "DropdownModel",
            "_options_labels": [
              "1",
              "2",
              "3",
              "4",
              "5",
              "6",
              "7",
              "8",
              "9",
              "10",
              "11",
              "12"
            ],
            "_view_count": null,
            "_view_module": "@jupyter-widgets/controls",
            "_view_module_version": "1.5.0",
            "_view_name": "DropdownView",
            "description": "Month:",
            "description_tooltip": null,
            "disabled": false,
            "index": 6,
            "layout": "IPY_MODEL_89b429d917054f6db47741fdd99ff254",
            "style": "IPY_MODEL_74b7baa831324448baec1834c2639360"
          }
        },
        "89b429d917054f6db47741fdd99ff254": {
          "model_module": "@jupyter-widgets/base",
          "model_module_version": "1.2.0",
          "model_name": "LayoutModel",
          "state": {
            "_model_module": "@jupyter-widgets/base",
            "_model_module_version": "1.2.0",
            "_model_name": "LayoutModel",
            "_view_count": null,
            "_view_module": "@jupyter-widgets/base",
            "_view_module_version": "1.2.0",
            "_view_name": "LayoutView",
            "align_content": null,
            "align_items": null,
            "align_self": null,
            "border": null,
            "bottom": null,
            "display": null,
            "flex": null,
            "flex_flow": null,
            "grid_area": null,
            "grid_auto_columns": null,
            "grid_auto_flow": null,
            "grid_auto_rows": null,
            "grid_column": null,
            "grid_gap": null,
            "grid_row": null,
            "grid_template_areas": null,
            "grid_template_columns": null,
            "grid_template_rows": null,
            "height": null,
            "justify_content": null,
            "justify_items": null,
            "left": null,
            "margin": null,
            "max_height": null,
            "max_width": null,
            "min_height": null,
            "min_width": null,
            "object_fit": null,
            "object_position": null,
            "order": null,
            "overflow": null,
            "overflow_x": null,
            "overflow_y": null,
            "padding": null,
            "right": null,
            "top": null,
            "visibility": null,
            "width": null
          }
        },
        "8f98a4f95ba249799f707a8365e2aa90": {
          "model_module": "@jupyter-widgets/base",
          "model_module_version": "1.2.0",
          "model_name": "LayoutModel",
          "state": {
            "_model_module": "@jupyter-widgets/base",
            "_model_module_version": "1.2.0",
            "_model_name": "LayoutModel",
            "_view_count": null,
            "_view_module": "@jupyter-widgets/base",
            "_view_module_version": "1.2.0",
            "_view_name": "LayoutView",
            "align_content": null,
            "align_items": null,
            "align_self": null,
            "border": null,
            "bottom": null,
            "display": null,
            "flex": null,
            "flex_flow": null,
            "grid_area": null,
            "grid_auto_columns": null,
            "grid_auto_flow": null,
            "grid_auto_rows": null,
            "grid_column": null,
            "grid_gap": null,
            "grid_row": null,
            "grid_template_areas": null,
            "grid_template_columns": null,
            "grid_template_rows": null,
            "height": null,
            "justify_content": null,
            "justify_items": null,
            "left": null,
            "margin": null,
            "max_height": null,
            "max_width": null,
            "min_height": null,
            "min_width": null,
            "object_fit": null,
            "object_position": null,
            "order": null,
            "overflow": null,
            "overflow_x": null,
            "overflow_y": null,
            "padding": null,
            "right": null,
            "top": null,
            "visibility": null,
            "width": null
          }
        },
        "a5bdafb2b7ae41238fb9889cf9d15d9b": {
          "model_module": "@jupyter-widgets/controls",
          "model_module_version": "1.5.0",
          "model_name": "VBoxModel",
          "state": {
            "_dom_classes": [
              "widget-interact"
            ],
            "_model_module": "@jupyter-widgets/controls",
            "_model_module_version": "1.5.0",
            "_model_name": "VBoxModel",
            "_view_count": null,
            "_view_module": "@jupyter-widgets/controls",
            "_view_module_version": "1.5.0",
            "_view_name": "VBoxView",
            "box_style": "",
            "children": [
              "IPY_MODEL_762d7314f45c43618662f2a944071fb7",
              "IPY_MODEL_64f2b4270a9c4354aa221b5bef8d3e38",
              "IPY_MODEL_2686b4c11bda47c783a2c521fedc8c29"
            ],
            "layout": "IPY_MODEL_52ead0e939a64e589131acfcf1dd7ea0"
          }
        }
      }
    }
  },
  "nbformat": 4,
  "nbformat_minor": 0
}
